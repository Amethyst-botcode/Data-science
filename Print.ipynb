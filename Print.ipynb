{
  "cells": [
    {
      "cell_type": "markdown",
      "metadata": {
        "id": "xJ741XOOdSkO"
      },
      "source": [
        "**Print Funtion**:\n",
        "This is a statement used to print information on the screen <br>\n",
        "It is used to display information."
      ]
    },
    {
      "cell_type": "code",
      "execution_count": 1,
      "metadata": {
        "colab": {
          "base_uri": "https://localhost:8080/"
        },
        "id": "u41hRAh_dNkx",
        "outputId": "fc45425b-80df-4ade-96f1-6d01ce14e899"
      },
      "outputs": [
        {
          "name": "stdout",
          "output_type": "stream",
          "text": [
            "2\n"
          ]
        }
      ],
      "source": [
        "print(2)"
      ]
    },
    {
      "cell_type": "code",
      "execution_count": 2,
      "metadata": {
        "colab": {
          "base_uri": "https://localhost:8080/",
          "height": 106
        },
        "id": "2iHghj9DdmMi",
        "outputId": "3b000f5c-d7b1-4e85-f02c-68761cc42e78"
      },
      "outputs": [
        {
          "ename": "SyntaxError",
          "evalue": "incomplete input (<ipython-input-2-46ee6d77a103>, line 1)",
          "output_type": "error",
          "traceback": [
            "\u001b[0;36m  File \u001b[0;32m\"<ipython-input-2-46ee6d77a103>\"\u001b[0;36m, line \u001b[0;32m1\u001b[0m\n\u001b[0;31m    print(2\u001b[0m\n\u001b[0m           ^\u001b[0m\n\u001b[0;31mSyntaxError\u001b[0m\u001b[0;31m:\u001b[0m incomplete input\n"
          ]
        }
      ],
      "source": [
        "print(2\n"
      ]
    },
    {
      "cell_type": "markdown",
      "metadata": {
        "id": "Rf8G_74Jd4Ip"
      },
      "source": [
        "> Python is a cas-sensitive programming language <br>\n",
        "so print and Print is not same in python"
      ]
    },
    {
      "cell_type": "code",
      "execution_count": 3,
      "metadata": {
        "colab": {
          "base_uri": "https://localhost:8080/",
          "height": 141
        },
        "id": "3nogluG5dqMD",
        "outputId": "fa3d6aed-f94b-4ebf-f0c0-68e1a9f2e78d"
      },
      "outputs": [
        {
          "ename": "NameError",
          "evalue": "name 'Print' is not defined",
          "output_type": "error",
          "traceback": [
            "\u001b[0;31m---------------------------------------------------------------------------\u001b[0m",
            "\u001b[0;31mNameError\u001b[0m                                 Traceback (most recent call last)",
            "\u001b[0;32m<ipython-input-3-7fa17f87921e>\u001b[0m in \u001b[0;36m<cell line: 1>\u001b[0;34m()\u001b[0m\n\u001b[0;32m----> 1\u001b[0;31m \u001b[0mPrint\u001b[0m\u001b[0;34m(\u001b[0m\u001b[0;36m2\u001b[0m\u001b[0;34m)\u001b[0m\u001b[0;34m\u001b[0m\u001b[0;34m\u001b[0m\u001b[0m\n\u001b[0m",
            "\u001b[0;31mNameError\u001b[0m: name 'Print' is not defined"
          ]
        }
      ],
      "source": [
        "Print(2)"
      ]
    },
    {
      "cell_type": "code",
      "execution_count": 4,
      "metadata": {
        "colab": {
          "base_uri": "https://localhost:8080/"
        },
        "id": "odgOXYLNdvIn",
        "outputId": "b627c6ce-9fff-40d6-88ee-f90a0e9c8ea6"
      },
      "outputs": [
        {
          "name": "stdout",
          "output_type": "stream",
          "text": [
            "5\n"
          ]
        }
      ],
      "source": [
        "print(2 + 3)"
      ]
    },
    {
      "cell_type": "markdown",
      "metadata": {
        "id": "0qBz6l_Ve4Ut"
      },
      "source": [
        "Variables are placeholders for changeable values <br>\n",
        "\n",
        "<p> How to define a variable? Conventions for defining a variable </p>\n",
        "\n",
        "<p>A variable name can not start with special character(@, #, -, +, !, `, ~, \", ', ^, &, %, $) or numbers</p> <br>\n",
        "\n",
        "<p> A variable can start with a letter, an underscore, it can be a mixture of letters, underscore </p>\n",
        "\n",
        "<strong> 3 Cases of defining a variable:\n",
        "Camel-Case: nameOne,\n",
        "Snake-Case: name_one,\n",
        "Pascal-Case: NameOne\n",
        "</strong>"
      ]
    },
    {
      "cell_type": "code",
      "execution_count": 6,
      "metadata": {
        "colab": {
          "base_uri": "https://localhost:8080/"
        },
        "id": "YbyRC6dYep_-",
        "outputId": "ad50475a-eb1e-45f1-9ba1-7a9a1f33d350"
      },
      "outputs": [
        {
          "name": "stdout",
          "output_type": "stream",
          "text": [
            "2\n"
          ]
        }
      ],
      "source": [
        "num = 2\n",
        "NuM = 3\n",
        "\n",
        "print(num)"
      ]
    },
    {
      "cell_type": "code",
      "execution_count": 7,
      "metadata": {
        "colab": {
          "base_uri": "https://localhost:8080/"
        },
        "id": "E6cO_InDiLct",
        "outputId": "90faf2eb-df16-4b66-ed4a-b77d616d75fc"
      },
      "outputs": [
        {
          "name": "stdout",
          "output_type": "stream",
          "text": [
            "9\n"
          ]
        }
      ],
      "source": [
        "print(NuM + 6)"
      ]
    },
    {
      "cell_type": "code",
      "execution_count": null,
      "metadata": {
        "id": "4YZaOnxtikZ-"
      },
      "outputs": [],
      "source": [
        "p"
      ]
    }
  ],
  "metadata": {
    "colab": {
      "provenance": []
    },
    "kernelspec": {
      "display_name": "Python 3",
      "name": "python3"
    },
    "language_info": {
      "name": "python"
    }
  },
  "nbformat": 4,
  "nbformat_minor": 0
}
