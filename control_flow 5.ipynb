{
 "cells": [
  {
   "cell_type": "markdown",
   "metadata": {},
   "source": [
    "'!@#$%^*&()_+-'"
   ]
  },
  {
   "cell_type": "code",
   "execution_count": 1,
   "metadata": {},
   "outputs": [
    {
     "name": "stdout",
     "output_type": "stream",
     "text": [
      "citizen is eligible to vote\n"
     ]
    }
   ],
   "source": [
    "min_age = 18\n",
    "\n",
    "user_age = int(input(\"Enter your age here: \"))\n",
    "\n",
    "if user_age >= min_age:\n",
    "    print('citizen is eligible to vote') #This print statement only executes if the if statement is true\n",
    "else:\n",
    "    print(f'Citizen should be {min_age} to vote')"
   ]
  },
  {
   "cell_type": "markdown",
   "metadata": {},
   "source": [
    "# Nested IF"
   ]
  },
  {
   "cell_type": "code",
   "execution_count": 2,
   "metadata": {},
   "outputs": [
    {
     "name": "stdout",
     "output_type": "stream",
     "text": [
      "Citizen is within the bracket but a fraud\n"
     ]
    }
   ],
   "source": [
    "min_age = 18\n",
    "max_age = 60\n",
    "user_age = input(\"Enter your age here: \")\n",
    "user_card_num = int(input(\"Enter your card number here: \"))\n",
    "voter_card_num = [12233445556, 123455677, 23435456768]\n",
    "\n",
    "if user_age.isdigit(): #Check if the user input is a number [0-9]\n",
    "    user_age = int(user_age) # Type cast the user age into an integer\n",
    "    if (user_age >= min_age) and (user_age <= max_age):\n",
    "        if user_card_num in voter_card_num:\n",
    "            print(\"Citizen is Valid and eligible to vote\")\n",
    "        else:\n",
    "            print(\"Citizen is within the bracket but a fraud\")\n",
    "    elif user_age < min_age:\n",
    "        print('Citizen is less than the minimum age')\n",
    "    else:\n",
    "        print(\"Baba, you are arugbo ojo\")\n",
    "else:\n",
    "    print('Citizen input is invalid')"
   ]
  },
  {
   "cell_type": "code",
   "execution_count": 3,
   "metadata": {},
   "outputs": [
    {
     "ename": "SyntaxError",
     "evalue": "invalid decimal literal (<string>, line 1)",
     "output_type": "error",
     "traceback": [
      "Traceback \u001b[1;36m(most recent call last)\u001b[0m:\n",
      "\u001b[0m  File \u001b[0;32m~\\AppData\\Roaming\\Python\\Python311\\site-packages\\IPython\\core\\interactiveshell.py:3577\u001b[0m in \u001b[0;35mrun_code\u001b[0m\n    exec(code_obj, self.user_global_ns, self.user_ns)\u001b[0m\n",
      "\u001b[1;36m  Cell \u001b[1;32mIn[3], line 1\u001b[1;36m\n\u001b[1;33m    num = eval(input(\"Enter a number here: \"))\u001b[1;36m\n",
      "\u001b[1;36m  File \u001b[1;32m<string>:1\u001b[1;36m\u001b[0m\n\u001b[1;33m    23r454\u001b[0m\n\u001b[1;37m     ^\u001b[0m\n\u001b[1;31mSyntaxError\u001b[0m\u001b[1;31m:\u001b[0m invalid decimal literal\n"
     ]
    }
   ],
   "source": [
    "num = eval(input(\"Enter a number here: \"))\n",
    "\n",
    "\n",
    "\n",
    "if num % 2 == 0:\n",
    "    print(\"Even number\")\n",
    "else:\n",
    "    print(\"An odd number\")"
   ]
  },
  {
   "cell_type": "code",
   "execution_count": null,
   "metadata": {},
   "outputs": [
    {
     "data": {
      "text/plain": [
       "dict"
      ]
     },
     "execution_count": 46,
     "metadata": {},
     "output_type": "execute_result"
    }
   ],
   "source": [
    "type(num)"
   ]
  },
  {
   "cell_type": "markdown",
   "metadata": {},
   "source": [
    "### Password Checker"
   ]
  },
  {
   "cell_type": "markdown",
   "metadata": {},
   "source": [
    "> your password should not be less than 8 <br>\n",
    "Should have a capital letter <br>\n",
    "Should have a lower case letter <br>\n",
    "Should have special characters <br>\n",
    "at least a number <br>"
   ]
  },
  {
   "cell_type": "code",
   "execution_count": null,
   "metadata": {},
   "outputs": [],
   "source": []
  },
  {
   "cell_type": "code",
   "execution_count": 72,
   "metadata": {},
   "outputs": [],
   "source": [
    "user_password = input(\"Enter password here: \")"
   ]
  },
  {
   "cell_type": "code",
   "execution_count": 42,
   "metadata": {},
   "outputs": [
    {
     "data": {
      "text/plain": [
       "11"
      ]
     },
     "execution_count": 42,
     "metadata": {},
     "output_type": "execute_result"
    }
   ],
   "source": [
    "len(user_password)"
   ]
  },
  {
   "cell_type": "code",
   "execution_count": 43,
   "metadata": {},
   "outputs": [
    {
     "data": {
      "text/plain": [
       "True"
      ]
     },
     "execution_count": 43,
     "metadata": {},
     "output_type": "execute_result"
    }
   ],
   "source": [
    "any(char.upper() for char in user_password)"
   ]
  },
  {
   "cell_type": "code",
   "execution_count": 47,
   "metadata": {},
   "outputs": [
    {
     "name": "stdout",
     "output_type": "stream",
     "text": [
      "15\n"
     ]
    }
   ],
   "source": [
    "a = 3\n",
    "b = 5\n",
    "\n",
    "print(a * b)"
   ]
  },
  {
   "cell_type": "code",
   "execution_count": 64,
   "metadata": {},
   "outputs": [
    {
     "data": {
      "text/plain": [
       "int"
      ]
     },
     "execution_count": 64,
     "metadata": {},
     "output_type": "execute_result"
    }
   ],
   "source": [
    "def mul_fun(a, b):\n",
    "    return a * b\n",
    "    print(\"This here\")\n",
    "\n",
    "type(mul_fun(a=2, b=3))"
   ]
  },
  {
   "cell_type": "code",
   "execution_count": 65,
   "metadata": {},
   "outputs": [
    {
     "data": {
      "text/plain": [
       "20"
      ]
     },
     "execution_count": 65,
     "metadata": {},
     "output_type": "execute_result"
    }
   ],
   "source": [
    "mul_fun(4, 5)"
   ]
  },
  {
   "cell_type": "code",
   "execution_count": 60,
   "metadata": {},
   "outputs": [
    {
     "data": {
      "text/plain": [
       "'222'"
      ]
     },
     "execution_count": 60,
     "metadata": {},
     "output_type": "execute_result"
    }
   ],
   "source": [
    "\"2\" * 3"
   ]
  },
  {
   "cell_type": "code",
   "execution_count": 62,
   "metadata": {},
   "outputs": [
    {
     "data": {
      "text/plain": [
       "str"
      ]
     },
     "execution_count": 62,
     "metadata": {},
     "output_type": "execute_result"
    }
   ],
   "source": [
    "type(mul_fun(\"2\", 3))"
   ]
  },
  {
   "cell_type": "code",
   "execution_count": 61,
   "metadata": {},
   "outputs": [
    {
     "data": {
      "text/plain": [
       "int"
      ]
     },
     "execution_count": 61,
     "metadata": {},
     "output_type": "execute_result"
    }
   ],
   "source": [
    "mul_int = mul_fun(3, 4)\n",
    "\n",
    "type(mul_int)"
   ]
  },
  {
   "cell_type": "code",
   "execution_count": 63,
   "metadata": {},
   "outputs": [
    {
     "data": {
      "text/plain": [
       "int"
      ]
     },
     "execution_count": 63,
     "metadata": {},
     "output_type": "execute_result"
    }
   ],
   "source": [
    "type(mul_int)"
   ]
  },
  {
   "cell_type": "code",
   "execution_count": 71,
   "metadata": {},
   "outputs": [
    {
     "data": {
      "text/plain": [
       "['I', '_', 'A', 'M', 'V', 'U', 'C', '9', '2', '8', '3']"
      ]
     },
     "execution_count": 71,
     "metadata": {},
     "output_type": "execute_result"
    }
   ],
   "source": [
    "[char.upper() for char in user_password]"
   ]
  },
  {
   "cell_type": "code",
   "execution_count": null,
   "metadata": {},
   "outputs": [],
   "source": [
    "user_password.is"
   ]
  },
  {
   "cell_type": "code",
   "execution_count": 74,
   "metadata": {},
   "outputs": [
    {
     "data": {
      "text/plain": [
       "True"
      ]
     },
     "execution_count": 74,
     "metadata": {},
     "output_type": "execute_result"
    }
   ],
   "source": [
    "any(char.isdigit() for char in user_password)"
   ]
  },
  {
   "cell_type": "code",
   "execution_count": 5,
   "metadata": {},
   "outputs": [],
   "source": [
    "def password_check(password): # Defined a function\n",
    "    if len(password) < 8: # this block executes if the if statement is true\n",
    "        print(\"password is too short\")\n",
    "        return False\n",
    "    if not any(char.isupper() for char in password):\n",
    "        print(\"At least one charater should be Capital letter\")\n",
    "        return False\n",
    "    if not any(char.islower() for char in password):\n",
    "        print(\"One of the characters must be lower case\")\n",
    "        return False\n",
    "    if not any(char in '!@#$%^*&()_+-' for char in password):\n",
    "        print(\"A special character must be in your password\")\n",
    "        return False\n",
    "    if not any(char.isdigit() for char in password):\n",
    "        print(\"At least a number should be used\")\n",
    "        return False\n",
    "    return \"Correct password\"\n"
   ]
  },
  {
   "cell_type": "code",
   "execution_count": 9,
   "metadata": {},
   "outputs": [
    {
     "data": {
      "text/plain": [
       "'Correct password'"
      ]
     },
     "execution_count": 9,
     "metadata": {},
     "output_type": "execute_result"
    }
   ],
   "source": [
    "password_check(\"iamvicTo#r97\")"
   ]
  },
  {
   "cell_type": "code",
   "execution_count": 10,
   "metadata": {},
   "outputs": [
    {
     "data": {
      "text/plain": [
       "[{'Item': 'Apple', 'Price': 500, 'Quantity': 30},\n",
       " {'Item': 'Watermelon', 'Price': 1300, 'Quantity': 10}]"
      ]
     },
     "execution_count": 10,
     "metadata": {},
     "output_type": "execute_result"
    }
   ],
   "source": [
    "cart = [\n",
    "    {\"Item\": \"Apple\", \"Price\" : 500, \"Quantity\" : 30},\n",
    "    {\"Item\": \"Watermelon\", \"Price\" : 1300, \"Quantity\" : 10}\n",
    "]\n",
    "\n",
    "cart"
   ]
  },
  {
   "cell_type": "code",
   "execution_count": 18,
   "metadata": {},
   "outputs": [
    {
     "name": "stdout",
     "output_type": "stream",
     "text": [
      "The total cost is 15000\n",
      "The total cost is 28000\n",
      "The final cost is 28000\n"
     ]
    }
   ],
   "source": [
    "total_cost = 0\n",
    "for x in cart:\n",
    "    total_cost += x[\"Price\"] * x[\"Quantity\"]\n",
    "    print(f\"The total cost is {total_cost}\")\n",
    "\n",
    "print(f\"The final cost is {total_cost}\")"
   ]
  },
  {
   "cell_type": "code",
   "execution_count": 24,
   "metadata": {},
   "outputs": [
    {
     "name": "stdout",
     "output_type": "stream",
     "text": [
      "gag is a palindrome\n"
     ]
    }
   ],
   "source": [
    "user_input = input(\"Enter a word here: \")\n",
    "\n",
    "input_copy = user_input[::-1]\n",
    "\n",
    "if input_copy.strip().lower() == user_input.strip().lower():\n",
    "    print(f\"{user_input} is a palindrome\")\n",
    "else:\n",
    "    print(f\"{user_input} is not a palindrome\")"
   ]
  },
  {
   "cell_type": "code",
   "execution_count": 25,
   "metadata": {},
   "outputs": [
    {
     "data": {
      "text/plain": [
       "200"
      ]
     },
     "execution_count": 25,
     "metadata": {},
     "output_type": "execute_result"
    }
   ],
   "source": [
    "large_list = [34, 56, 12, 90, 200, 14, 56, 23]\n",
    "\n",
    "max(large_list)"
   ]
  },
  {
   "cell_type": "code",
   "execution_count": 26,
   "metadata": {},
   "outputs": [
    {
     "data": {
      "text/plain": [
       "12"
      ]
     },
     "execution_count": 26,
     "metadata": {},
     "output_type": "execute_result"
    }
   ],
   "source": [
    "min(large_list)"
   ]
  },
  {
   "cell_type": "code",
   "execution_count": 28,
   "metadata": {},
   "outputs": [
    {
     "name": "stdout",
     "output_type": "stream",
     "text": [
      "200\n"
     ]
    }
   ],
   "source": [
    "largest = 34\n",
    "\n",
    "for x in large_list:\n",
    "    if x > largest:\n",
    "        largest = x\n",
    "print(largest)"
   ]
  },
  {
   "cell_type": "code",
   "execution_count": 31,
   "metadata": {},
   "outputs": [
    {
     "name": "stdout",
     "output_type": "stream",
     "text": [
      "12\n"
     ]
    }
   ],
   "source": [
    "lowest = large_list[0]\n",
    "\n",
    "for x in large_list:\n",
    "    if x < lowest:\n",
    "        lowest = x\n",
    "print(lowest)"
   ]
  },
  {
   "cell_type": "code",
   "execution_count": 32,
   "metadata": {},
   "outputs": [
    {
     "data": {
      "text/plain": [
       "485"
      ]
     },
     "execution_count": 32,
     "metadata": {},
     "output_type": "execute_result"
    }
   ],
   "source": [
    "sum(large_list)"
   ]
  },
  {
   "cell_type": "code",
   "execution_count": 33,
   "metadata": {},
   "outputs": [
    {
     "name": "stdout",
     "output_type": "stream",
     "text": [
      "485\n"
     ]
    }
   ],
   "source": [
    "sum_of_num = 0\n",
    "for x in large_list:\n",
    "    sum_of_num += x\n",
    "\n",
    "print(sum_of_num)"
   ]
  },
  {
   "cell_type": "code",
   "execution_count": 37,
   "metadata": {},
   "outputs": [
    {
     "name": "stdout",
     "output_type": "stream",
     "text": [
      "[1156, 3136, 144, 8100, 40000, 196, 3136]\n"
     ]
    }
   ],
   "source": [
    "even_list = []\n",
    "\n",
    "for x in large_list:\n",
    "    if x % 2 == 0:\n",
    "        even_list.append(x ** 2)\n",
    "print(even_list)"
   ]
  },
  {
   "cell_type": "code",
   "execution_count": 36,
   "metadata": {},
   "outputs": [
    {
     "data": {
      "text/plain": [
       "[1156, 3136, 144, 8100, 40000, 196, 3136]"
      ]
     },
     "execution_count": 36,
     "metadata": {},
     "output_type": "execute_result"
    }
   ],
   "source": [
    "[x**2 for x in large_list if x %2 == 0] # list comprehension"
   ]
  },
  {
   "cell_type": "markdown",
   "metadata": {},
   "source": [
    "Else in for loop"
   ]
  },
  {
   "cell_type": "code",
   "execution_count": 38,
   "metadata": {},
   "outputs": [
    {
     "name": "stdout",
     "output_type": "stream",
     "text": [
      "v\n",
      "s\n",
      "h\n",
      "d\n",
      "d\n",
      "f\n",
      "k\n",
      "j\n",
      "h\n",
      "b\n",
      "m\n",
      "s\n",
      "d\n",
      "g\n",
      "h\n",
      "c\n",
      "v\n",
      "s\n",
      "d\n",
      "a\n",
      ",\n",
      "h\n",
      "b\n"
     ]
    }
   ],
   "source": [
    "string = \"vshddfkjhbmsdghcvsda,hb\"\n",
    "\n",
    "for x in string:\n",
    "    print(x)"
   ]
  },
  {
   "cell_type": "code",
   "execution_count": 39,
   "metadata": {},
   "outputs": [
    {
     "name": "stdout",
     "output_type": "stream",
     "text": [
      "v\n",
      "i\n",
      "c\n",
      "t\n",
      "o\n",
      "r\n",
      "for loop completed successfully\n"
     ]
    }
   ],
   "source": [
    "for x in \"victor\":\n",
    "    print(x)\n",
    "else:\n",
    "    print('for loop completed successfully')"
   ]
  },
  {
   "cell_type": "code",
   "execution_count": 40,
   "metadata": {},
   "outputs": [
    {
     "name": "stdout",
     "output_type": "stream",
     "text": [
      "v\n",
      "i\n",
      "c\n"
     ]
    }
   ],
   "source": [
    "for x in \"victor\":\n",
    "    print(x)\n",
    "    if x == \"c\":\n",
    "        break\n",
    "else:\n",
    "    print(\"for loop completed\")"
   ]
  },
  {
   "cell_type": "code",
   "execution_count": 42,
   "metadata": {},
   "outputs": [
    {
     "data": {
      "text/plain": [
       "[0, 1, 2, 3, 4, 5, 6, 7, 8, 9, 10, 11, 12, 13, 14]"
      ]
     },
     "execution_count": 42,
     "metadata": {},
     "output_type": "execute_result"
    }
   ],
   "source": [
    "list(range(15))"
   ]
  },
  {
   "cell_type": "code",
   "execution_count": 45,
   "metadata": {},
   "outputs": [
    {
     "name": "stdout",
     "output_type": "stream",
     "text": [
      "3\n",
      "5\n",
      "7\n",
      "9\n",
      "11\n",
      "13\n"
     ]
    }
   ],
   "source": [
    "for i in range(3, 15, 2):\n",
    "    print(i)"
   ]
  },
  {
   "cell_type": "code",
   "execution_count": 48,
   "metadata": {},
   "outputs": [
    {
     "name": "stdout",
     "output_type": "stream",
     "text": [
      "sudh\n",
      "ope\n",
      "for loop finished\n"
     ]
    }
   ],
   "source": [
    "name_list = [\"sudh\", \"vic\", \"ope\"]\n",
    "\n",
    "for x in name_list:\n",
    "    if x == \"vic\": #True\n",
    "        continue # it skips that value or item\n",
    "    print(x)\n",
    "else:\n",
    "    print('for loop finished')"
   ]
  },
  {
   "cell_type": "code",
   "execution_count": 57,
   "metadata": {},
   "outputs": [
    {
     "data": {
      "text/plain": [
       "12"
      ]
     },
     "execution_count": 57,
     "metadata": {},
     "output_type": "execute_result"
    }
   ],
   "source": [
    "from math import sqrt\n",
    "\n",
    "int(sqrt(125)) + 1"
   ]
  },
  {
   "cell_type": "code",
   "execution_count": 65,
   "metadata": {},
   "outputs": [
    {
     "name": "stdout",
     "output_type": "stream",
     "text": [
      "3 is a prime number\n"
     ]
    }
   ],
   "source": [
    "user_int = int(input(\"Enter ur number\"))\n",
    "\n",
    "if user_int <= 1:\n",
    "    print(f'{user_int} is not a prime number')\n",
    "\n",
    "if user_int >= 2:\n",
    "    for x in range(2, int(user_int ** 0.5)+1):\n",
    "        print(x)\n",
    "        if user_int % x == 0:\n",
    "            print(f'{user_int} is not a prime number')\n",
    "            break\n",
    "    else:\n",
    "        print(f\"{user_int} is a prime number\")\n",
    "        "
   ]
  },
  {
   "cell_type": "code",
   "execution_count": 1,
   "metadata": {},
   "outputs": [
    {
     "data": {
      "text/plain": [
       "range(0, 20)"
      ]
     },
     "execution_count": 1,
     "metadata": {},
     "output_type": "execute_result"
    }
   ],
   "source": [
    "range(20)"
   ]
  },
  {
   "cell_type": "code",
   "execution_count": 3,
   "metadata": {},
   "outputs": [
    {
     "data": {
      "text/plain": [
       "[1, 2, 3, 4, 5, 6, 7, 8, 9, 10, 11, 12, 13, 14, 15, 16, 17, 18, 19]"
      ]
     },
     "execution_count": 3,
     "metadata": {},
     "output_type": "execute_result"
    }
   ],
   "source": [
    "list(range(1, 20))"
   ]
  },
  {
   "cell_type": "code",
   "execution_count": 9,
   "metadata": {},
   "outputs": [
    {
     "name": "stdout",
     "output_type": "stream",
     "text": [
      "[1, 3, 5, 7, 9, 11, 13, 15, 17, 19, 21, 23, 25, 27, 29, 31, 33, 35, 37, 39, 41, 43, 45, 47, 49]\n"
     ]
    }
   ],
   "source": [
    "print(list(range(1,50, 2))) # an optimal method to print odd numbers between 1 and 50"
   ]
  },
  {
   "cell_type": "code",
   "execution_count": 8,
   "metadata": {},
   "outputs": [
    {
     "name": "stdout",
     "output_type": "stream",
     "text": [
      "[1, 3, 5, 7, 9, 11, 13, 15, 17, 19, 21, 23, 25, 27, 29, 31, 33, 35, 37, 39, 41, 43, 45, 47, 49]\n"
     ]
    }
   ],
   "source": [
    "odd_num = []\n",
    "for x in range(1,50):\n",
    "    if x % 2 != 0:\n",
    "        odd_num.append(x)\n",
    "print(odd_num)"
   ]
  },
  {
   "cell_type": "code",
   "execution_count": 10,
   "metadata": {},
   "outputs": [
    {
     "name": "stdout",
     "output_type": "stream",
     "text": [
      "[1, 3, 5, 7, 9, 11, 13, 15, 17, 19, 21, 23, 25, 27, 29, 31, 33, 35, 37, 39, 41, 43, 45, 47, 49]\n"
     ]
    }
   ],
   "source": [
    "# write same functionality with list comprehension\n",
    "\n",
    "odd_num_2 = [x for x in range(1,50) if x % 2 != 0]\n",
    "\n",
    "print(odd_num_2)"
   ]
  },
  {
   "cell_type": "code",
   "execution_count": 11,
   "metadata": {},
   "outputs": [
    {
     "name": "stdout",
     "output_type": "stream",
     "text": [
      "Volvo\n",
      "Benz\n",
      "BMW\n",
      "Cheverolet\n"
     ]
    }
   ],
   "source": [
    "car_list = [\"Volvo\", \"Benz\", \"BMW\", \"Cheverolet\"]\n",
    "\n",
    "for i in car_list:\n",
    "    print(i)"
   ]
  },
  {
   "cell_type": "code",
   "execution_count": 13,
   "metadata": {},
   "outputs": [
    {
     "name": "stdout",
     "output_type": "stream",
     "text": [
      "Volvo is at index 0\n",
      "Benz is at index 1\n",
      "BMW is at index 2\n",
      "Cheverolet is at index 3\n"
     ]
    }
   ],
   "source": [
    "for i in range(len(car_list)):\n",
    "    print(f\"{car_list[i]} is at index {i}\")"
   ]
  },
  {
   "cell_type": "code",
   "execution_count": 14,
   "metadata": {},
   "outputs": [
    {
     "data": {
      "text/plain": [
       "('Volvo', 'Benz', 'BMW', 'Cheverolet')"
      ]
     },
     "execution_count": 14,
     "metadata": {},
     "output_type": "execute_result"
    }
   ],
   "source": [
    "car_list[0], car_list[1], car_list[2], car_list[3]"
   ]
  },
  {
   "cell_type": "markdown",
   "metadata": {},
   "source": [
    "### Nested loop"
   ]
  },
  {
   "cell_type": "code",
   "execution_count": 24,
   "metadata": {},
   "outputs": [
    {
     "name": "stdout",
     "output_type": "stream",
     "text": [
      "0 0\n",
      "1 0\n",
      "1 1\n",
      "2 0\n",
      "2 1\n",
      "2 2\n",
      "3 0\n",
      "3 1\n",
      "3 2\n",
      "3 3\n",
      "4 0\n",
      "4 1\n",
      "4 2\n",
      "4 3\n",
      "4 4\n"
     ]
    }
   ],
   "source": [
    "for i in range(5): # [0,1,2,3,4]\n",
    "    for j in range(0, i+1): # for first iteration [0], for the second iteration [0,1]\n",
    "        print(i, j)"
   ]
  },
  {
   "cell_type": "code",
   "execution_count": 23,
   "metadata": {},
   "outputs": [
    {
     "data": {
      "text/plain": [
       "[0, 1, 2, 3]"
      ]
     },
     "execution_count": 23,
     "metadata": {},
     "output_type": "execute_result"
    }
   ],
   "source": [
    "list(range(0,4))"
   ]
  },
  {
   "cell_type": "markdown",
   "metadata": {},
   "source": [
    "### While LOOP"
   ]
  },
  {
   "cell_type": "code",
   "execution_count": 25,
   "metadata": {},
   "outputs": [
    {
     "name": "stdout",
     "output_type": "stream",
     "text": [
      "5\n",
      "10\n",
      "15\n",
      "20\n",
      "25\n",
      "30\n",
      "35\n",
      "40\n",
      "45\n",
      "50\n",
      "55\n",
      "60\n"
     ]
    }
   ],
   "source": [
    "for x in range(1,13):\n",
    "    print(5 * x)"
   ]
  },
  {
   "cell_type": "code",
   "execution_count": 27,
   "metadata": {},
   "outputs": [
    {
     "name": "stdout",
     "output_type": "stream",
     "text": [
      "5\n",
      "10\n",
      "15\n",
      "20\n",
      "25\n",
      "30\n",
      "35\n",
      "40\n",
      "45\n",
      "50\n",
      "55\n",
      "60\n"
     ]
    }
   ],
   "source": [
    "num = 1 # instantiated number to be 1\n",
    "\n",
    "while num < 13: #True, for the final check 13 is not less than 13\n",
    "    print(5 * num)\n",
    "    num += 1 # Increment the value of num"
   ]
  },
  {
   "cell_type": "code",
   "execution_count": 28,
   "metadata": {},
   "outputs": [
    {
     "name": "stdout",
     "output_type": "stream",
     "text": [
      "60\n",
      "55\n",
      "50\n",
      "45\n",
      "40\n",
      "35\n",
      "30\n",
      "25\n",
      "20\n",
      "15\n",
      "10\n",
      "5\n"
     ]
    }
   ],
   "source": [
    "num = 12\n",
    "\n",
    "while num > 0:\n",
    "    print(5 * num)\n",
    "    num -= 1"
   ]
  },
  {
   "cell_type": "code",
   "execution_count": 29,
   "metadata": {},
   "outputs": [
    {
     "data": {
      "text/plain": [
       "['Volvo', 'Benz', 'BMW', 'Cheverolet']"
      ]
     },
     "execution_count": 29,
     "metadata": {},
     "output_type": "execute_result"
    }
   ],
   "source": [
    "car_list"
   ]
  },
  {
   "cell_type": "code",
   "execution_count": 31,
   "metadata": {},
   "outputs": [
    {
     "name": "stdout",
     "output_type": "stream",
     "text": [
      "Volvo\n",
      "BMW\n"
     ]
    }
   ],
   "source": [
    "ind = 0\n",
    "while ind < len(car_list):\n",
    "    print(car_list[ind])\n",
    "    ind += 2"
   ]
  },
  {
   "cell_type": "code",
   "execution_count": 33,
   "metadata": {},
   "outputs": [
    {
     "name": "stdout",
     "output_type": "stream",
     "text": [
      "Cheverolet\n",
      "BMW\n",
      "Benz\n",
      "Volvo\n"
     ]
    }
   ],
   "source": [
    "ind = len(car_list) - 1\n",
    "\n",
    "while ind >= 0:\n",
    "    print(car_list[ind])\n",
    "    ind -= 1"
   ]
  },
  {
   "cell_type": "code",
   "execution_count": 52,
   "metadata": {},
   "outputs": [
    {
     "name": "stdout",
     "output_type": "stream",
     "text": [
      "nbxNz xBZ sxnbsVXZdsjgbxzmndbdsanmvjgdkjsa\n"
     ]
    }
   ],
   "source": [
    "str_one = \"asjkdgjvmnasdbdnmzxbgjsdZXVsbnxs ZBx zNxbn\"\n",
    "\n",
    "empty_str = \"\"\n",
    "\n",
    "real_len = len(str_one) - 1\n",
    "\n",
    "for x in range(real_len, -1, -1):\n",
    "    empty_str += str_one[x]\n",
    "print(empty_str)"
   ]
  },
  {
   "cell_type": "code",
   "execution_count": 40,
   "metadata": {},
   "outputs": [
    {
     "data": {
      "text/plain": [
       "''"
      ]
     },
     "execution_count": 40,
     "metadata": {},
     "output_type": "execute_result"
    }
   ],
   "source": [
    "empty_str"
   ]
  },
  {
   "cell_type": "code",
   "execution_count": 44,
   "metadata": {},
   "outputs": [
    {
     "name": "stdout",
     "output_type": "stream",
     "text": [
      "Not a palindrome\n"
     ]
    }
   ],
   "source": [
    "str_1 = \"woe\"\n",
    "\n",
    "if str_1[::-1].lower() == str_1.lower():\n",
    "    print(\"It is a palindrome\")\n",
    "else:\n",
    "    print(\"Not a palindrome\")"
   ]
  },
  {
   "cell_type": "code",
   "execution_count": 1,
   "metadata": {},
   "outputs": [],
   "source": [
    "x = int(input(\"Enter your first number here: \"))\n",
    "y = int(input(\"Enter your second number here: \"))\n",
    "\n",
    "def lcm_check(a,b):\n",
    "    while True:\n",
    "        if a > b:\n",
    "            greater = a\n",
    "        else:\n",
    "            greater = b\n",
    "        \n",
    "        if greater % a == 0 and greater % b == 0:\n",
    "            lcm = greater\n",
    "            break\n",
    "        greater += 1\n",
    "    return lcm\n",
    "\n"
   ]
  },
  {
   "cell_type": "code",
   "execution_count": 2,
   "metadata": {},
   "outputs": [
    {
     "ename": "KeyboardInterrupt",
     "evalue": "",
     "output_type": "error",
     "traceback": [
      "\u001b[1;31m---------------------------------------------------------------------------\u001b[0m",
      "\u001b[1;31mKeyboardInterrupt\u001b[0m                         Traceback (most recent call last)",
      "Cell \u001b[1;32mIn[2], line 1\u001b[0m\n\u001b[1;32m----> 1\u001b[0m \u001b[43mlcm_check\u001b[49m\u001b[43m(\u001b[49m\u001b[43mx\u001b[49m\u001b[43m,\u001b[49m\u001b[43m \u001b[49m\u001b[43my\u001b[49m\u001b[43m)\u001b[49m\n",
      "Cell \u001b[1;32mIn[1], line 5\u001b[0m, in \u001b[0;36mlcm_check\u001b[1;34m(a, b)\u001b[0m\n\u001b[0;32m      4\u001b[0m \u001b[38;5;28;01mdef\u001b[39;00m \u001b[38;5;21mlcm_check\u001b[39m(a,b):\n\u001b[1;32m----> 5\u001b[0m     \u001b[38;5;28;01mwhile\u001b[39;00m \u001b[38;5;28;01mTrue\u001b[39;00m:\n\u001b[0;32m      6\u001b[0m         \u001b[38;5;28;01mif\u001b[39;00m a \u001b[38;5;241m>\u001b[39m b:\n\u001b[0;32m      7\u001b[0m             greater \u001b[38;5;241m=\u001b[39m a\n",
      "\u001b[1;31mKeyboardInterrupt\u001b[0m: "
     ]
    }
   ],
   "source": [
    "lcm_check(x, y)"
   ]
  },
  {
   "cell_type": "code",
   "execution_count": null,
   "metadata": {},
   "outputs": [],
   "source": []
  }
 ],
 "metadata": {
  "kernelspec": {
   "display_name": "base",
   "language": "python",
   "name": "python3"
  },
  "language_info": {
   "codemirror_mode": {
    "name": "ipython",
    "version": 3
   },
   "file_extension": ".py",
   "mimetype": "text/x-python",
   "name": "python",
   "nbconvert_exporter": "python",
   "pygments_lexer": "ipython3",
   "version": "3.11.7"
  }
 },
 "nbformat": 4,
 "nbformat_minor": 2
}
