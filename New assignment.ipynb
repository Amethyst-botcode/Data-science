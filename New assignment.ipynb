{
 "cells": [
  {
   "cell_type": "markdown",
   "metadata": {},
   "source": [
    "##### Python Assignment: Student Grade Management System\n",
    "\n",
    "---\n",
    "<center>Problem: Write a Python program that allows a teacher to manage student grades. The program should perform the following tasks: </center>\n",
    "\n",
    "* Add a new student: The teacher can input a student's name and their grades for three subjects (e.g., Math, Science, English). Store the student’s information in a list of dictionaries. <br>\n",
    "\n",
    "* Display student details: The teacher can view the details of all students, including their names, grades, total marks, and average grade. <br>\n",
    "\n",
    "* Find the top student: Identify the student with the highest total marks. <br>\n",
    "\n",
    "* Calculate the class average: Compute and display the average marks for the class across all students. <br>\n",
    "\n",
    "---"
   ]
  },
  {
   "cell_type": "markdown",
   "metadata": {},
   "source": []
  }
 ],
 "metadata": {
  "language_info": {
   "name": "python"
  }
 },
 "nbformat": 4,
 "nbformat_minor": 2
}
