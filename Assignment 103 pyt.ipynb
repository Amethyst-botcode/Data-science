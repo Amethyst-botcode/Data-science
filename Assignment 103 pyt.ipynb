{
 "cells": [
  {
   "cell_type": "markdown",
   "metadata": {},
   "source": [
    "#### <span style= 'color:red'>  **Python Assignment: Student Grade Management System**\n",
    "------\n",
    "\n",
    "*<center> Problem: Write a Python program that allows a teacher to manage student grades. The program should perform the following tasks:*\n",
    "</center>\n",
    "\n",
    "* Add a new student: The teacher can input a student's name and their grades for three subjects (e.g., Math, Science, English). Store the student’s information in a list of dictionaries. <br>\n"
   ]
  },
  {
   "cell_type": "markdown",
   "metadata": {},
   "source": []
  },
  {
   "cell_type": "markdown",
   "metadata": {},
   "source": [
    "- ANSWER:\n",
    "> I am going to write a function that allows teachers to input student's name <br>\n",
    "> the grades for three subject , so that teachers can add as many students as needed just by calling <br>\n",
    "> the function name "
   ]
  },
  {
   "cell_type": "code",
   "execution_count": 1,
   "metadata": {},
   "outputs": [],
   "source": [
    "students = {}\n",
    "\n",
    "def enroll_students(): \n",
    "    \"\"\"\n",
    "    Creating a simple function. It has no argument because it is user interactive, \n",
    "    asking for input directly from the user\n",
    "    \n",
    "    \"\"\"\n",
    "    students_name = input(\"Enter the student's name here: \")\n",
    "    Math_grade = int(input(\"Enter the maths score: \"))\n",
    "    English_grade = int(input(\"Enter the english score: \"))\n",
    "    Science_grade = int(input(\"Enter the science score: \" ))\n",
    "    students[students_name] = [Math_grade, English_grade, Science_grade] \n",
    "    \"\"\"\n",
    "    student_name is the key and Math_grade, English_grade and Science_grade the values.\n",
    "    \n",
    "    \"\"\""
   ]
  },
  {
   "cell_type": "code",
   "execution_count": 7,
   "metadata": {},
   "outputs": [],
   "source": [
    "enroll_students()"
   ]
  },
  {
   "cell_type": "code",
   "execution_count": 8,
   "metadata": {},
   "outputs": [
    {
     "data": {
      "text/plain": [
       "{'Ayeni Kasum': [30, 60, 25],\n",
       " 'Cathy houston': [60, 58, 60],\n",
       " 'Ayobami ayodele': [12, 30, 16],\n",
       " 'Simisola jola scott': [60, 58, 30],\n",
       " 'Gerald johnson': [60, 58, 50]}"
      ]
     },
     "execution_count": 8,
     "metadata": {},
     "output_type": "execute_result"
    }
   ],
   "source": [
    "print\n",
    "(students)"
   ]
  },
  {
   "cell_type": "markdown",
   "metadata": {},
   "source": [
    "**Find the top student: Identify the student with the highest total marks. <br>**\n",
    "\n",
    "- I am creating a function that checks for sums up the total score and tracks which students has has the highest score."
   ]
  },
  {
   "cell_type": "code",
   "execution_count": 9,
   "metadata": {},
   "outputs": [],
   "source": [
    "def top_student(students):\n",
    "    \"\"\"A simple function that takes a positional argument and \n",
    "    tracks the highest scoring students\n",
    "    \"\"\"\n",
    "    top_name = None #This will help to store and display the name of the student with the top score\n",
    "    top_score = 0\n",
    "    for names, scores in students.items():\n",
    "        total_score = sum(scores)\n",
    "        if total_score > top_score:\n",
    "            top_score = total_score\n",
    "            top_name = names\n",
    "    print(f\"The highest scoring student is {top_name} with a total score of {top_score} marks.\")\n",
    "    print(\"-\" * 60)\n",
    "    print(f\"Way to go {top_name.title()}! Keep up the good work.\")"
   ]
  },
  {
   "cell_type": "code",
   "execution_count": 10,
   "metadata": {},
   "outputs": [
    {
     "name": "stdout",
     "output_type": "stream",
     "text": [
      "The highest scoring student is Cathy houston with a total score of 178 marks.\n",
      "------------------------------------------------------------\n",
      "Way to go Cathy Houston! Keep up the good work.\n"
     ]
    }
   ],
   "source": [
    "top_student(students)"
   ]
  },
  {
   "cell_type": "markdown",
   "metadata": {},
   "source": [
    "* Calculate the class average: Compute and display the average marks for the class across all students. <br>\n",
    "> The formula for calculating the class average is: <br>\n",
    "> Class average = total marks/total number of grades\n",
    "                "
   ]
  },
  {
   "cell_type": "code",
   "execution_count": 12,
   "metadata": {},
   "outputs": [
    {
     "name": "stdout",
     "output_type": "stream",
     "text": [
      "The class average is 44.\n"
     ]
    }
   ],
   "source": [
    "\n",
    "def class_average(students):\n",
    "    total_marks = 0\n",
    "    total_no_grade = 0\n",
    "    for grades in students.values():\n",
    "        total_marks += sum(grades) #This sum up all the students grade\n",
    "        total_no_grade += len(grades) #This sums up all the students scores\n",
    "    average = total_marks // total_no_grade #This divides the total sum of students score over the total number of their grade\n",
    "    print(f\"The class average is {average}.\")\n",
    "\n",
    "class_average(students)\n"
   ]
  },
  {
   "cell_type": "markdown",
   "metadata": {},
   "source": [
    "- Display student details: The teacher can view the details of all students, <br>\n",
    "including their names, grades, total marks, and average grade. \n"
   ]
  },
  {
   "cell_type": "code",
   "execution_count": 25,
   "metadata": {},
   "outputs": [
    {
     "name": "stdout",
     "output_type": "stream",
     "text": [
      "Student name: Ayeni Kasum\n",
      "Your grades are: Math: 30, English: 60, Science: 25\n",
      "Your total grade is: 115\n",
      "Your average grade is: 38\n",
      "------------------------------------------------------------\n",
      "Student name: Cathy houston\n",
      "Your grades are: Math: 60, English: 58, Science: 60\n",
      "Your total grade is: 178\n",
      "Your average grade is: 59\n",
      "------------------------------------------------------------\n",
      "Student name: Ayobami ayodele\n",
      "Your grades are: Math: 12, English: 30, Science: 16\n",
      "Your total grade is: 58\n",
      "Your average grade is: 19\n",
      "------------------------------------------------------------\n",
      "Student name: Simisola jola scott\n",
      "Your grades are: Math: 60, English: 58, Science: 30\n",
      "Your total grade is: 148\n",
      "Your average grade is: 49\n",
      "------------------------------------------------------------\n",
      "Student name: Gerald johnson\n",
      "Your grades are: Math: 60, English: 58, Science: 50\n",
      "Your total grade is: 168\n",
      "Your average grade is: 56\n",
      "------------------------------------------------------------\n"
     ]
    }
   ],
   "source": [
    "def grade_sheet(students):\n",
    "    for name, grades in students.items():\n",
    "        total_marks = sum(grades)\n",
    "        average_grade = total_marks // len(grades)\n",
    "        print(f\"Student name: {name}\")\n",
    "        print(f\"Your grades are: Math: {grades[0]}, English: {grades[1]}, Science: {grades[2]}\")\n",
    "        print(f\"Your total grade is: {total_marks}\")\n",
    "        print(f\"Your average grade is: {average_grade}\")\n",
    "        print(\"-\" * 60)\n",
    "grade_sheet(students)    \n",
    "    "
   ]
  },
  {
   "cell_type": "code",
   "execution_count": null,
   "metadata": {},
   "outputs": [],
   "source": []
  }
 ],
 "metadata": {
  "kernelspec": {
   "display_name": "base",
   "language": "python",
   "name": "python3"
  },
  "language_info": {
   "codemirror_mode": {
    "name": "ipython",
    "version": 3
   },
   "file_extension": ".py",
   "mimetype": "text/x-python",
   "name": "python",
   "nbconvert_exporter": "python",
   "pygments_lexer": "ipython3",
   "version": "3.12.4"
  }
 },
 "nbformat": 4,
 "nbformat_minor": 2
}
