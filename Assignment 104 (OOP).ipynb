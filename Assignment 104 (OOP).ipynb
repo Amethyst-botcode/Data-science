{
 "cells": [
  {
   "cell_type": "markdown",
   "metadata": {},
   "source": [
    "----\n",
    "\n",
    "##### **Assignment Prompt:**\n",
    "\n",
    "----\n",
    "\n",
    "> Create a Python object that models the functionality of an AppClick student.\n",
    "\n"
   ]
  },
  {
   "cell_type": "code",
   "execution_count": 73,
   "metadata": {},
   "outputs": [],
   "source": [
    "class App_student:\n",
    "    \"\"\"A simple attempt to model the functionality of an App_click student.\n",
    "    \"\"\"\n",
    "    def __init__(self, name: str, age: int, gender: str, student_id: str, course: str, cohort: str, class_mode: str, payment_plan: str, attendance_percent: int):\n",
    "        \"\"\" Initialize the attributes.\n",
    "        \"\"\"\n",
    "        self.name = name\n",
    "        self.age = age\n",
    "        self.gender = gender\n",
    "        self.student_id = student_id\n",
    "        self.course = course\n",
    "        self.cohort = cohort\n",
    "        self.class_mode = class_mode\n",
    "        self.payment_plan = payment_plan\n",
    "        self.attendance_percent = attendance_percent\n",
    "    #Create a method that indicates if an app click student drops or change to another course\n",
    "    def drop_course(self, course):\n",
    "        \"\"\"Checks if the course registered matches the one inputted in the argument \n",
    "        and if the student has dropped the course.\n",
    "        \"\"\"\n",
    "        if self.course == course:\n",
    "            self.course = None\n",
    "            return f\"{self.name} has dropped the {course}.\"\n",
    "        else:\n",
    "            return f\"{self.name} is not enrolled in {course}.\"\n",
    "        \n",
    "    def chg_payment(self, new_plan):\n",
    "        \"\"\"Allows student to change their payment plan\"\"\"\n",
    "        if self.payment_plan != new_plan:\n",
    "            self.payment_plan = new_plan\n",
    "            print(f\"{self.name} has changed the payment plan to {new_plan}.\")\n",
    "        else:\n",
    "            print(f\"You are already using the {new_plan} payment plan.\")\n",
    "    \n",
    "    def new_mode(self, new_mode):\n",
    "        if self.class_mode != new_mode:\n",
    "            self.class_mode = new_mode\n",
    "            print(f\"{self.name} has to {new_mode} mode\")\n",
    "        else:\n",
    "            print(f\"You are already taking classes through {new_mode} mode.\")\n",
    "    \n",
    "    def attendance(self):\n",
    "        \"\"\"\n",
    "        Checks if the student attendance meets the 85% requirement fro sitting in the exam. \n",
    "        \"\"\"\n",
    "        if self.attendance_percent >= 85:\n",
    "            print(f\"{self.name} meets the attendance requirement with {self.attendance_percent}%.\")\n",
    "        else: \n",
    "            print(f\"{self.name} does not meet the attendance requirement with {self.attendance_percent}%.\")     "
   ]
  },
  {
   "cell_type": "code",
   "execution_count": 74,
   "metadata": {},
   "outputs": [],
   "source": [
    "student1 = App_student(\n",
    "    name = \"Simi Scott\",\n",
    "    age = 27,\n",
    "    gender = \"Female\",\n",
    "    student_id = \"DS2468\",\n",
    "    course = \"Data science\",\n",
    "    cohort = \"May cohort\",\n",
    "    class_mode = \"Online\",\n",
    "    payment_plan = \"installment\",\n",
    "    attendance_percent = 25\n",
    "    )"
   ]
  },
  {
   "cell_type": "code",
   "execution_count": 35,
   "metadata": {},
   "outputs": [
    {
     "name": "stdout",
     "output_type": "stream",
     "text": [
      "Simi Scott has changed the payment plan to full.\n"
     ]
    }
   ],
   "source": [
    "student1.chg_payment(\"full\")"
   ]
  },
  {
   "cell_type": "code",
   "execution_count": 36,
   "metadata": {},
   "outputs": [
    {
     "data": {
      "text/plain": [
       "'full'"
      ]
     },
     "execution_count": 36,
     "metadata": {},
     "output_type": "execute_result"
    }
   ],
   "source": [
    "student1.payment_plan"
   ]
  },
  {
   "cell_type": "code",
   "execution_count": 72,
   "metadata": {},
   "outputs": [
    {
     "name": "stdout",
     "output_type": "stream",
     "text": [
      "Simi Scott does not meet the attendance requirement with 25%.\n"
     ]
    }
   ],
   "source": [
    "student1.attendance()"
   ]
  },
  {
   "cell_type": "code",
   "execution_count": 77,
   "metadata": {},
   "outputs": [],
   "source": [
    "student2 = App_student(\n",
    "    name = 'Daniel Tokunbo',\n",
    "    age = 23,\n",
    "    gender = 'Male',\n",
    "    student_id = 'FE24709',\n",
    "    course = 'Front-end',\n",
    "    cohort = 'July',\n",
    "    class_mode = 'physical',\n",
    "    payment_plan = 'Full',\n",
    "    attendance_percent = 90   \n",
    ")"
   ]
  },
  {
   "cell_type": "code",
   "execution_count": 78,
   "metadata": {},
   "outputs": [
    {
     "name": "stdout",
     "output_type": "stream",
     "text": [
      "Daniel Tokunbo meets the attendance requirement with 90%.\n"
     ]
    }
   ],
   "source": [
    "student2.attendance()"
   ]
  },
  {
   "cell_type": "code",
   "execution_count": null,
   "metadata": {},
   "outputs": [],
   "source": []
  }
 ],
 "metadata": {
  "kernelspec": {
   "display_name": "Python 3",
   "language": "python",
   "name": "python3"
  },
  "language_info": {
   "codemirror_mode": {
    "name": "ipython",
    "version": 3
   },
   "file_extension": ".py",
   "mimetype": "text/x-python",
   "name": "python",
   "nbconvert_exporter": "python",
   "pygments_lexer": "ipython3",
   "version": "3.12.4"
  }
 },
 "nbformat": 4,
 "nbformat_minor": 2
}
