{
 "cells": [
  {
   "cell_type": "markdown",
   "metadata": {},
   "source": [
    "'!@#$%^*&()_+-'"
   ]
  },
  {
   "cell_type": "code",
   "execution_count": 6,
   "metadata": {},
   "outputs": [
    {
     "name": "stdout",
     "output_type": "stream",
     "text": [
      "Citizen should be 18 to vote\n"
     ]
    }
   ],
   "source": [
    "min_age = 18\n",
    "\n",
    "user_age = int(input(\"Enter your age here: \"))\n",
    "\n",
    "if user_age >= min_age:\n",
    "    print('citizen is eligible to vote') #This print statement only executes if the if statement is true\n",
    "else:\n",
    "    print(f'Citizen should be {min_age} to vote')"
   ]
  },
  {
   "cell_type": "markdown",
   "metadata": {},
   "source": [
    "# Nested IF"
   ]
  },
  {
   "cell_type": "code",
   "execution_count": 29,
   "metadata": {},
   "outputs": [
    {
     "name": "stdout",
     "output_type": "stream",
     "text": [
      "Citizen is within the bracket but a fraud\n"
     ]
    }
   ],
   "source": [
    "min_age = 18\n",
    "max_age = 60\n",
    "user_age = input(\"Enter your age here: \")\n",
    "user_card_num = int(input(\"Enter your card number here: \"))\n",
    "voter_card_num = [12233445556, 123455677, 23435456768]\n",
    "\n",
    "if user_age.isdigit(): #Check if the user input is a number [0-9]\n",
    "    user_age = int(user_age) # Type cast the user age into an integer\n",
    "    if (user_age >= min_age) and (user_age <= max_age):\n",
    "        if user_card_num in voter_card_num:\n",
    "            print(\"Citizen is Valid and eligible to vote\")\n",
    "        else:\n",
    "            print(\"Citizen is within the bracket but a fraud\")\n",
    "    elif user_age < min_age:\n",
    "        print('Citizen is less than the minimum age')\n",
    "    else:\n",
    "        print(\"Baba, you are arugbo ojo\")\n",
    "else:\n",
    "    print('Citizen input is invalid')"
   ]
  },
  {
   "cell_type": "code",
   "execution_count": 7,
   "metadata": {},
   "outputs": [
    {
     "data": {
      "text/plain": [
       "int"
      ]
     },
     "execution_count": 7,
     "metadata": {},
     "output_type": "execute_result"
    }
   ],
   "source": [
    "result = eval(\"2 + 6 * 5\")\n",
    "result\n",
    "type(result)"
   ]
  },
  {
   "cell_type": "code",
   "execution_count": 6,
   "metadata": {},
   "outputs": [
    {
     "name": "stdout",
     "output_type": "stream",
     "text": [
      "An odd number\n"
     ]
    }
   ],
   "source": [
    "num = eval(input(\"Enter a number here: \"))\n",
    "\n",
    "\n",
    "\n",
    "if num % 2 == 0:\n",
    "    print(\"Even number\")\n",
    "else:\n",
    "    print(\"An odd number\")"
   ]
  },
  {
   "cell_type": "code",
   "execution_count": 9,
   "metadata": {},
   "outputs": [
    {
     "data": {
      "text/plain": [
       "int"
      ]
     },
     "execution_count": 9,
     "metadata": {},
     "output_type": "execute_result"
    }
   ],
   "source": [
    "type(num)"
   ]
  },
  {
   "cell_type": "markdown",
   "metadata": {},
   "source": [
    "### Password Checker"
   ]
  },
  {
   "cell_type": "markdown",
   "metadata": {},
   "source": [
    "> your password should not be less than 8 <br>\n",
    "Should have a capital letter <br>\n",
    "Should have a small letter <br>\n",
    "Should have special characters <br>\n",
    "at least a number <br>"
   ]
  },
  {
   "cell_type": "code",
   "execution_count": 13,
   "metadata": {},
   "outputs": [
    {
     "data": {
      "text/plain": [
       "['M', 'o', 'y', 'o', 's', 'o', 'r', 'e']"
      ]
     },
     "execution_count": 13,
     "metadata": {},
     "output_type": "execute_result"
    }
   ],
   "source": [
    "[char for char in user_password]"
   ]
  },
  {
   "cell_type": "code",
   "execution_count": 34,
   "metadata": {},
   "outputs": [
    {
     "name": "stdout",
     "output_type": "stream",
     "text": [
      "Capital letter check passed\n",
      "Small letter check passed\n",
      "Number check passed\n",
      "Special character check\n"
     ]
    }
   ],
   "source": [
    "user_password = input(\"Enter password here: \")\n",
    "\n",
    "if len(user_password) < 8:\n",
    "    print(\"password is too short\")\n",
    "if not any(char.isupper() for char in user_password):\n",
    "    print(\"Password should contain at least one capital letter\")\n",
    "else:\n",
    "    print('Capital letter check passed')\n",
    "    if not any(char.islower() for char in user_password):\n",
    "        print(\"Password should contain at least one small letter\")\n",
    "    else:\n",
    "        print('Small letter check passed')\n",
    "        if not any(char.isdigit() for char in user_password):\n",
    "            print(\"Password should contain at least one number\")\n",
    "        else:\n",
    "            print('Number check passed')\n",
    "            if not any(char in \"!@#$%^&*()_-=+[{]}\\\\|;:'\\\",<.>/?`~\" for char in user_password):\n",
    "                print('Password should have at least one special character')\n",
    "            else:    \n",
    "                print('Special character check passed')\n",
    "                "
   ]
  },
  {
   "cell_type": "code",
   "execution_count": 1,
   "metadata": {},
   "outputs": [
    {
     "data": {
      "text/plain": [
       "[{'item': 'Apple', 'price': 500, 'Quantity': 30},\n",
       " {'item': 'Watermelon', 'price': 1300, 'Quantity': 10}]"
      ]
     },
     "execution_count": 1,
     "metadata": {},
     "output_type": "execute_result"
    }
   ],
   "source": [
    "cart = [\n",
    "    {'item': 'Apple', 'price': 500, 'Quantity': 30},\n",
    "    {'item': 'Watermelon', 'price': 1300, 'Quantity': 10}\n",
    "]\n",
    "cart"
   ]
  },
  {
   "cell_type": "code",
   "execution_count": 2,
   "metadata": {},
   "outputs": [
    {
     "name": "stdout",
     "output_type": "stream",
     "text": [
      "{'item': 'Apple', 'price': 500, 'Quantity': 30}\n",
      "{'item': 'Watermelon', 'price': 1300, 'Quantity': 10}\n"
     ]
    }
   ],
   "source": [
    "for goods in cart:\n",
    "    print(goods)"
   ]
  },
  {
   "cell_type": "code",
   "execution_count": 5,
   "metadata": {},
   "outputs": [
    {
     "name": "stdout",
     "output_type": "stream",
     "text": [
      "500 30\n",
      "1300 10\n"
     ]
    }
   ],
   "source": [
    "for goods in cart:\n",
    "    print(goods['price'], goods['Quantity'])"
   ]
  },
  {
   "cell_type": "code",
   "execution_count": 6,
   "metadata": {},
   "outputs": [
    {
     "name": "stdout",
     "output_type": "stream",
     "text": [
      "15000\n",
      "13000\n"
     ]
    }
   ],
   "source": [
    "for goods in cart:\n",
    "    print(goods['price'] * goods['Quantity'])"
   ]
  },
  {
   "cell_type": "code",
   "execution_count": 7,
   "metadata": {},
   "outputs": [
    {
     "name": "stdout",
     "output_type": "stream",
     "text": [
      "The total cost is 15000\n",
      "\n",
      "The total cost is 28000\n",
      "\n",
      "The final total cost is 28000\n"
     ]
    }
   ],
   "source": [
    "total_cost =0\n",
    "for goods in cart:\n",
    "    total_cost += (goods['price'] * goods['Quantity'])\n",
    "    print(f'The total cost is {total_cost}')\n",
    "    print()\n",
    "    \n",
    "print(f'The final total cost is {total_cost}')\n",
    "    "
   ]
  },
  {
   "cell_type": "code",
   "execution_count": 11,
   "metadata": {},
   "outputs": [
    {
     "name": "stdout",
     "output_type": "stream",
     "text": [
      "comb is not a palindrome\n"
     ]
    }
   ],
   "source": [
    "user_input = input(\"Enter a word here: \")\n",
    "input_copy = user_input[ : :-1]\n",
    "\n",
    "if input_copy.strip().lower() == user_input.strip().lower():\n",
    "    print(f'{user_input} is a palindrome')\n",
    "else:\n",
    "    print(f'{user_input} is not a palindrome')"
   ]
  },
  {
   "cell_type": "code",
   "execution_count": 19,
   "metadata": {},
   "outputs": [
    {
     "data": {
      "text/plain": [
       "[23, 35, 66, 77, 100, 90, 80]"
      ]
     },
     "execution_count": 19,
     "metadata": {},
     "output_type": "execute_result"
    }
   ],
   "source": [
    "large_list = [23, 35, 66, 77, 100, 90, 80]\n",
    "large_list"
   ]
  },
  {
   "cell_type": "code",
   "execution_count": 14,
   "metadata": {},
   "outputs": [
    {
     "name": "stdout",
     "output_type": "stream",
     "text": [
      "100\n"
     ]
    }
   ],
   "source": [
    "largest = 0\n",
    "\n",
    "for x in large_list:\n",
    "    if x > largest:\n",
    "        largest = x\n",
    "print(largest)"
   ]
  },
  {
   "cell_type": "code",
   "execution_count": 23,
   "metadata": {},
   "outputs": [
    {
     "name": "stdout",
     "output_type": "stream",
     "text": [
      "0\n"
     ]
    }
   ],
   "source": [
    "lowest = 0\n",
    "\n",
    "for x in large_list:\n",
    "    if x < lowest:\n",
    "        lowest = x\n",
    "\n",
    "\n",
    "print(lowest)"
   ]
  },
  {
   "cell_type": "code",
   "execution_count": 21,
   "metadata": {},
   "outputs": [
    {
     "name": "stdout",
     "output_type": "stream",
     "text": [
      "471\n"
     ]
    }
   ],
   "source": [
    "sum_num = 0\n",
    "for x in large_list:\n",
    "    sum_num += x\n",
    "    \n",
    "print(sum_num)"
   ]
  },
  {
   "cell_type": "code",
   "execution_count": 22,
   "metadata": {},
   "outputs": [
    {
     "name": "stdout",
     "output_type": "stream",
     "text": [
      "[66, 100, 90, 80]\n"
     ]
    }
   ],
   "source": [
    "even_list = []\n",
    "\n",
    "for x in large_list:\n",
    "    if x % 2 == 0:\n",
    "        even_list.append(x)\n",
    "        \n",
    "print(even_list)\n",
    "        "
   ]
  },
  {
   "cell_type": "code",
   "execution_count": 25,
   "metadata": {},
   "outputs": [
    {
     "data": {
      "text/plain": [
       "[132, 200, 180, 160]"
      ]
     },
     "execution_count": 25,
     "metadata": {},
     "output_type": "execute_result"
    }
   ],
   "source": [
    "[x*2 for x in large_list if x % 2 == 0] #list comprehension "
   ]
  },
  {
   "cell_type": "markdown",
   "metadata": {},
   "source": [
    "### **ELSE BLOCK**"
   ]
  },
  {
   "cell_type": "code",
   "execution_count": null,
   "metadata": {},
   "outputs": [],
   "source": [
    " "
   ]
  }
 ],
 "metadata": {
  "kernelspec": {
   "display_name": "base",
   "language": "python",
   "name": "python3"
  },
  "language_info": {
   "codemirror_mode": {
    "name": "ipython",
    "version": 3
   },
   "file_extension": ".py",
   "mimetype": "text/x-python",
   "name": "python",
   "nbconvert_exporter": "python",
   "pygments_lexer": "ipython3",
   "version": "3.12.4"
  }
 },
 "nbformat": 4,
 "nbformat_minor": 2
}
