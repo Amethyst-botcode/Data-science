{
 "cells": [
  {
   "cell_type": "markdown",
   "id": "b1eca057-66be-42ec-8cbe-3832b1138659",
   "metadata": {},
   "source": [
    "---\n",
    "### LIST\n",
    "---"
   ]
  },
  {
   "cell_type": "markdown",
   "id": "25098250-b368-421e-8aba-f3a8a6859f21",
   "metadata": {},
   "source": [
    "* Lists are changeable, ordered and mutable - meaning you can change their elements (add, remove, modify) after they are created.\n",
    "  >The two method of creating list is <br>\n",
    "  >the lis constructor: list() <br>\n",
    "  >using the square bracket []"
   ]
  },
  {
   "cell_type": "code",
   "execution_count": 117,
   "id": "267ff58c-5b27-4dfe-ab63-6f94dbc5da73",
   "metadata": {},
   "outputs": [
    {
     "name": "stdout",
     "output_type": "stream",
     "text": [
      "['Apple', 'Pineapple', 'Watermelon']\n"
     ]
    }
   ],
   "source": [
    "fruits_list = ['Apple', 'Pineapple', 'Watermelon']\n",
    "print(fruits_list)"
   ]
  },
  {
   "cell_type": "code",
   "execution_count": 29,
   "id": "74505c3d-8408-49b1-9413-247c2c29f2a0",
   "metadata": {},
   "outputs": [
    {
     "name": "stdout",
     "output_type": "stream",
     "text": [
      "['Apple', 'Pineapple', 'Watermelon', 'pear']\n"
     ]
    }
   ],
   "source": [
    "#To modify this fruits table and add more values\n",
    "fruits_list.append('pear')\n",
    "print(fruits_list)"
   ]
  },
  {
   "cell_type": "code",
   "execution_count": 42,
   "id": "c87ab4cf-509e-4e76-8278-9cde8541825f",
   "metadata": {},
   "outputs": [
    {
     "name": "stdout",
     "output_type": "stream",
     "text": [
      "['Grape', 'Grape', 'Apple', 'Pineapple', 'watermelon']\n"
     ]
    }
   ],
   "source": [
    "#To modify this fruits table and add more values, we can also do this\n",
    "fruits_list.insert(4, 'watermelon')\n",
    "print(fruits_list)"
   ]
  },
  {
   "cell_type": "markdown",
   "id": "093b6e22-eaa0-45e1-b853-70503703bde6",
   "metadata": {},
   "source": [
    "* The pop method is used to remove and return an element from a list. The two ways of using pop is without an index and with an index."
   ]
  },
  {
   "cell_type": "code",
   "execution_count": 38,
   "id": "5dc9ebcf-ac7b-4a6a-914c-fb385a582e22",
   "metadata": {},
   "outputs": [
    {
     "name": "stdout",
     "output_type": "stream",
     "text": [
      "['Grape', 'Apple', 'Pineapple']\n"
     ]
    }
   ],
   "source": [
    "#This method removes the last index or value in the list because the index is not given\n",
    "fruits_list.pop()\n",
    "print(fruits_list)"
   ]
  },
  {
   "cell_type": "code",
   "execution_count": 46,
   "id": "500e9030-a38e-4038-9b75-b2cd3123d486",
   "metadata": {},
   "outputs": [
    {
     "name": "stdout",
     "output_type": "stream",
     "text": [
      "['Apple', 'Pineapple', 'watermelon']\n"
     ]
    }
   ],
   "source": [
    "#This removes the indicated index\n",
    "fruits_list.pop(0)\n",
    "print(fruits_list)"
   ]
  },
  {
   "cell_type": "markdown",
   "id": "890d7ff3-1a8b-4157-b606-39f199037fbb",
   "metadata": {},
   "source": [
    "---\n",
    ">EXTEND\n",
    "\n",
    "---\n",
    "The extend method add another variable to the end of an existing list."
   ]
  },
  {
   "cell_type": "code",
   "execution_count": 119,
   "id": "aede73ff-4e24-454e-9b3a-028a392fe7fb",
   "metadata": {},
   "outputs": [
    {
     "name": "stdout",
     "output_type": "stream",
     "text": [
      "['cream', 'vegetables', 'Cabbages']\n"
     ]
    }
   ],
   "source": [
    "extra_list = ['cream', 'vegetables', 'Cabbages']\n",
    "print(extra_list)"
   ]
  },
  {
   "cell_type": "code",
   "execution_count": 54,
   "id": "cd3f74a7-3701-40b1-867a-8f54cc7a1c46",
   "metadata": {},
   "outputs": [
    {
     "name": "stdout",
     "output_type": "stream",
     "text": [
      "['Apple', 'Pineapple', 'watermelon', 'cream', 'vegetables', 'Cabbages']\n"
     ]
    }
   ],
   "source": [
    "#We could concate both variables together\n",
    "fruits_list = fruits_list + extra_list\n",
    "print(fruits_list)"
   ]
  },
  {
   "cell_type": "code",
   "execution_count": 56,
   "id": "d84ff21d-37fa-4dbd-9184-58012b0e9157",
   "metadata": {},
   "outputs": [
    {
     "name": "stdout",
     "output_type": "stream",
     "text": [
      "['Apple', 'Pineapple', 'watermelon', 'cream', 'vegetables', 'Cabbages', 'cream', 'vegetables', 'Cabbages']\n"
     ]
    }
   ],
   "source": [
    "#Or we could use extend\n",
    "fruits_list.extend(extra_list)\n",
    "print(fruits_list)"
   ]
  },
  {
   "cell_type": "code",
   "execution_count": 125,
   "id": "adcfa0b9-d4c7-43a8-9dd1-cd11636775a9",
   "metadata": {},
   "outputs": [
    {
     "name": "stdout",
     "output_type": "stream",
     "text": [
      "['Apple', 'Pineapple', 'Watermelon', ['cream', 'vegetables', 'Cabbages'], ['cream', 'vegetables', 'Cabbages'], ['cream', 'vegetables', 'Cabbages']]\n"
     ]
    }
   ],
   "source": [
    "#We could also use append\n",
    "fruits_list.append(extra_list)\n",
    "\n",
    "print(fruits_list)"
   ]
  },
  {
   "cell_type": "markdown",
   "id": "93f6c3c3-8cf8-4771-90c4-2b7f4e6c9334",
   "metadata": {},
   "source": [
    "---\n",
    ">CLEAR\n",
    "---\n",
    "Clear cleans out the elements in the variable leaving us with an empty string."
   ]
  },
  {
   "cell_type": "markdown",
   "id": "5972a02a-28fa-4f2d-b47d-b1eb6532f14a",
   "metadata": {},
   "source": [
    "extra_list.clean()\n",
    "\n",
    "print(extra_list)"
   ]
  },
  {
   "cell_type": "markdown",
   "id": "1000024b-f53e-4462-a583-bad1bff88096",
   "metadata": {},
   "source": [
    "---\n",
    ">SORT\n",
    "---\n",
    "Sort helps in arranging the elements in our variables either in ascending or descending order."
   ]
  },
  {
   "cell_type": "code",
   "execution_count": 76,
   "id": "9f3424c4-51c8-4a05-a09a-48f6b738b96a",
   "metadata": {},
   "outputs": [],
   "source": [
    "list = [9, 8, 7, 5, 4, 3, 2, 1]"
   ]
  },
  {
   "cell_type": "code",
   "execution_count": 68,
   "id": "cd89330d-1e06-4849-942f-e9060f99cc2f",
   "metadata": {},
   "outputs": [
    {
     "data": {
      "text/plain": [
       "[9, 8, 7, 5, 4, 3, 2, 1]"
      ]
     },
     "execution_count": 68,
     "metadata": {},
     "output_type": "execute_result"
    }
   ],
   "source": [
    "list"
   ]
  },
  {
   "cell_type": "code",
   "execution_count": 70,
   "id": "e45e8105-e7b2-4698-be4f-06492d42eec8",
   "metadata": {},
   "outputs": [],
   "source": [
    "list.sort()"
   ]
  },
  {
   "cell_type": "code",
   "execution_count": 72,
   "id": "5acad80a-5906-4520-a9d9-e343595caed5",
   "metadata": {},
   "outputs": [
    {
     "data": {
      "text/plain": [
       "[1, 2, 3, 4, 5, 7, 8, 9]"
      ]
     },
     "execution_count": 72,
     "metadata": {},
     "output_type": "execute_result"
    }
   ],
   "source": [
    "list"
   ]
  },
  {
   "cell_type": "code",
   "execution_count": 82,
   "id": "50b70a54-4ac9-4f70-a358-91eb57f13a21",
   "metadata": {},
   "outputs": [],
   "source": [
    "list.sort(reverse = 'true')"
   ]
  },
  {
   "cell_type": "code",
   "execution_count": 84,
   "id": "7dc3b754-143e-4be7-a85b-6d070b1543b4",
   "metadata": {},
   "outputs": [
    {
     "data": {
      "text/plain": [
       "[9, 8, 7, 5, 4, 3, 2, 1]"
      ]
     },
     "execution_count": 84,
     "metadata": {},
     "output_type": "execute_result"
    }
   ],
   "source": [
    "list"
   ]
  },
  {
   "cell_type": "code",
   "execution_count": 87,
   "id": "a8a856aa-61dd-4aae-b722-d12c0d94d492",
   "metadata": {},
   "outputs": [],
   "source": [
    "list.sort(reverse ='false')"
   ]
  },
  {
   "cell_type": "code",
   "execution_count": 89,
   "id": "609096bc-f2cb-4a78-93e4-ed3f372f3a86",
   "metadata": {},
   "outputs": [
    {
     "data": {
      "text/plain": [
       "[9, 8, 7, 5, 4, 3, 2, 1]"
      ]
     },
     "execution_count": 89,
     "metadata": {},
     "output_type": "execute_result"
    }
   ],
   "source": [
    "list"
   ]
  },
  {
   "cell_type": "code",
   "execution_count": 91,
   "id": "b28c4306-e62d-49b5-b51c-697a4d9c790e",
   "metadata": {},
   "outputs": [
    {
     "name": "stdout",
     "output_type": "stream",
     "text": [
      "[1, 2, 3, 4, 5, 7, 8, 9]\n"
     ]
    }
   ],
   "source": [
    "list.reverse()\n",
    "print(list)"
   ]
  },
  {
   "cell_type": "markdown",
   "id": "3f4dc4de-27f4-4ae2-ae10-84603632e27d",
   "metadata": {},
   "source": [
    "#### TUPLE\n",
    "\n",
    "A tuple is similar to a list but with slight differences. it is a collection of multiple items in a single variable, they are ordered, unchangeable and immutable meaning that once they are created they cannot be added, removed or changed. <br>\n",
    "We can use count and index in tuple."
   ]
  },
  {
   "cell_type": "code",
   "execution_count": 95,
   "id": "32fc4b9b-452c-4f0a-99b5-b4f077d4722d",
   "metadata": {},
   "outputs": [
    {
     "name": "stdout",
     "output_type": "stream",
     "text": [
      "<class 'tuple'> <class 'tuple'>\n"
     ]
    }
   ],
   "source": [
    "empty_tup = () #Creating a tuple using parenthesis\n",
    "empty_tup_2 = tuple() #Creating a tuple using tuple constructor\n",
    "print(type(empty_tup), type(empty_tup_2))"
   ]
  },
  {
   "cell_type": "code",
   "execution_count": 107,
   "id": "8006c035-b685-40a8-a69c-f660dba0c4bf",
   "metadata": {},
   "outputs": [
    {
     "name": "stdout",
     "output_type": "stream",
     "text": [
      "(1, 2, 3, 4, 'DA', 'DS', 'ML', 'DL')\n"
     ]
    }
   ],
   "source": [
    "my_tup = tuple((1, 2, 3, 4, 'DA', 'DS', 'ML', 'DL'))\n",
    "print(my_tup)"
   ]
  },
  {
   "cell_type": "code",
   "execution_count": 109,
   "id": "cf631459-e4b5-455a-968e-1237b406f8a3",
   "metadata": {},
   "outputs": [
    {
     "name": "stdout",
     "output_type": "stream",
     "text": [
      "<class 'tuple'>\n"
     ]
    }
   ],
   "source": [
    "print(type(my_tup))"
   ]
  },
  {
   "cell_type": "markdown",
   "id": "4f40b47a-0e0f-4a28-b363-d4c7bc7d087a",
   "metadata": {},
   "source": [
    "* .index returns the index of the first occurence of a value. It returns the index of the first matching element."
   ]
  },
  {
   "cell_type": "code",
   "execution_count": null,
   "id": "5230840e-474d-470f-916e-2134a81681d0",
   "metadata": {},
   "outputs": [],
   "source": []
  }
 ],
 "metadata": {
  "kernelspec": {
   "display_name": "Python 3 (ipykernel)",
   "language": "python",
   "name": "python3"
  },
  "language_info": {
   "codemirror_mode": {
    "name": "ipython",
    "version": 3
   },
   "file_extension": ".py",
   "mimetype": "text/x-python",
   "name": "python",
   "nbconvert_exporter": "python",
   "pygments_lexer": "ipython3",
   "version": "3.12.4"
  }
 },
 "nbformat": 4,
 "nbformat_minor": 5
}
