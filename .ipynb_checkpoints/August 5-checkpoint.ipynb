{
 "cells": [
  {
   "cell_type": "markdown",
   "id": "8481c60e-22c2-4e37-b12f-a70761337497",
   "metadata": {},
   "source": [
    "---\n",
    "#### PACKING AND UNPACKING TUPLES\n",
    "\n",
    "---"
   ]
  },
  {
   "cell_type": "code",
   "execution_count": 4,
   "id": "e699b496-2ee2-4e38-b10e-633215c93dca",
   "metadata": {},
   "outputs": [
    {
     "name": "stdout",
     "output_type": "stream",
     "text": [
      "(9, 3, 8, 0, 'Victor', 'apples', [1, 2, 3, 4, 4], (2, 6, 7, 4))\n"
     ]
    }
   ],
   "source": [
    "my_tup = (9,3,8, 0, 'Victor', 'apples', [1, 2, 3, 4, 4], (2, 6, 7, 4))\n",
    "print(my_tup)"
   ]
  },
  {
   "cell_type": "code",
   "execution_count": 12,
   "id": "5ecedee9-e123-4cff-863c-ee26f1be23d4",
   "metadata": {},
   "outputs": [
    {
     "name": "stdout",
     "output_type": "stream",
     "text": [
      "9\n",
      "[3, 8, 0, 'Victor', 'apples', [1, 2, 3, 4, 4], (2, 6, 7, 4)]\n"
     ]
    }
   ],
   "source": [
    "#Using the *method to pack and unpack tuples\n",
    "my_tup, *my_tup_2 = (9,3,8, 0, 'Victor', 'apples', [1, 2, 3, 4, 4], (2, 6, 7, 4))\n",
    "#It assigns the first element to my_tup and the rest of the elements into my_tup_2\n",
    "print(my_tup)\n",
    "print(my_tup_2)"
   ]
  },
  {
   "cell_type": "markdown",
   "id": "433341c0-fc4e-44d6-af04-f1a01fd37f9c",
   "metadata": {},
   "source": [
    "### **SET**\n",
    "Set is a collection which is unordered, unchangeable and unindexed. They do not allow duplicate value, in set \"true\" and \"1\" is considered the same value while \"False\" and \"0\" are considered the same value.\n",
    "The two methods of creating a set are with: <br>\n",
    "- {}\n",
    "- Using the set constructor: set()"
   ]
  },
  {
   "cell_type": "code",
   "execution_count": 70,
   "id": "fcfa3271-e156-49ee-b6cd-0710ffbc3f50",
   "metadata": {},
   "outputs": [
    {
     "name": "stdout",
     "output_type": "stream",
     "text": [
      "<class 'set'>\n",
      "{2, 3, 4, 5, 'victor', 'Victor'}\n",
      "{'orange', 'mango', 'apple'}\n"
     ]
    }
   ],
   "source": [
    "my_set1 = {2,2,3,3,4,5,\"Victor\",\"victor\"} #Creating a set \n",
    "\n",
    "fruit_set = {'apple', 'apple', 'mango', 'orange'}\n",
    "print(type(my_set1)) #Checking the data type\n",
    "print(my_set1)\n",
    "print(fruit_set) #Set does not allow duplicate values, so the result set will bring only distinct values."
   ]
  },
  {
   "cell_type": "markdown",
   "id": "04fe9841-c6df-466b-98d7-d9fe448d5467",
   "metadata": {},
   "source": [
    "**Accessing items in a set**."
   ]
  },
  {
   "cell_type": "code",
   "execution_count": 25,
   "id": "667e205d-2ab1-49ec-926f-6b330cc00e3a",
   "metadata": {},
   "outputs": [
    {
     "name": "stdout",
     "output_type": "stream",
     "text": [
      "2\n",
      "3\n",
      "4\n",
      "5\n",
      "victor\n",
      "Victor\n"
     ]
    }
   ],
   "source": [
    "#Loop way\n",
    "for x in my_set1:\n",
    "    print(x)"
   ]
  },
  {
   "cell_type": "code",
   "execution_count": 27,
   "id": "424b72d1-dbdd-4d68-8889-b135964384e3",
   "metadata": {},
   "outputs": [
    {
     "data": {
      "text/plain": [
       "6"
      ]
     },
     "execution_count": 27,
     "metadata": {},
     "output_type": "execute_result"
    }
   ],
   "source": [
    "len(my_set1)"
   ]
  },
  {
   "cell_type": "code",
   "execution_count": 37,
   "id": "2a277cc2-a7b2-40af-9bd2-b6934dcee320",
   "metadata": {},
   "outputs": [
    {
     "name": "stdout",
     "output_type": "stream",
     "text": [
      "{True, 3, 4, 5, 6, 12}\n"
     ]
    }
   ],
   "source": [
    "this_set = {12, 3, 4, 5, 6, True, 1} #In set 'true' and '1' are considered the same.\n",
    "\n",
    "print(this_set)"
   ]
  },
  {
   "cell_type": "code",
   "execution_count": 45,
   "id": "464b040e-7922-46da-8f5b-f58a6a8e5032",
   "metadata": {},
   "outputs": [
    {
     "data": {
      "text/plain": [
       "{False, 12, 24, 56, 78}"
      ]
     },
     "execution_count": 45,
     "metadata": {},
     "output_type": "execute_result"
    }
   ],
   "source": [
    "that_set = {12, 24, 56, 78, False, 0} #In set 'false'and '0' are considered the same.\n",
    "that_set"
   ]
  },
  {
   "cell_type": "code",
   "execution_count": 47,
   "id": "5a3b751a-2f96-43a6-a8bc-2835e03faa99",
   "metadata": {},
   "outputs": [
    {
     "data": {
      "text/plain": [
       "{False, 12, 24, 33, 56, 78}"
      ]
     },
     "execution_count": 47,
     "metadata": {},
     "output_type": "execute_result"
    }
   ],
   "source": [
    "that_set.add(33) #Adding into a set can be done with a .add() method\n",
    "that_set"
   ]
  },
  {
   "cell_type": "code",
   "execution_count": 49,
   "id": "d899388b-d68b-4b41-a929-74dbc3712646",
   "metadata": {},
   "outputs": [
    {
     "data": {
      "text/plain": [
       "False"
      ]
     },
     "execution_count": 49,
     "metadata": {},
     "output_type": "execute_result"
    }
   ],
   "source": [
    "True in that_set"
   ]
  },
  {
   "cell_type": "code",
   "execution_count": 51,
   "id": "df10bc9d-9b73-4fc9-8758-a029968eb655",
   "metadata": {},
   "outputs": [
    {
     "data": {
      "text/plain": [
       "True"
      ]
     },
     "execution_count": 51,
     "metadata": {},
     "output_type": "execute_result"
    }
   ],
   "source": [
    "False in that_set"
   ]
  },
  {
   "cell_type": "code",
   "execution_count": 53,
   "id": "fa371c3b-425c-492a-b918-b5aa6ea6d5e7",
   "metadata": {},
   "outputs": [
    {
     "data": {
      "text/plain": [
       "True"
      ]
     },
     "execution_count": 53,
     "metadata": {},
     "output_type": "execute_result"
    }
   ],
   "source": [
    "True not in that_set #Accessing the elements in our set using boolean"
   ]
  },
  {
   "cell_type": "code",
   "execution_count": 55,
   "id": "5e97b5b0-94a2-4b5b-b282-90c2f8ce94a0",
   "metadata": {},
   "outputs": [
    {
     "data": {
      "text/plain": [
       "{'Watermelon', 'apple', 'mango', 'orange'}"
      ]
     },
     "execution_count": 55,
     "metadata": {},
     "output_type": "execute_result"
    }
   ],
   "source": [
    "fruit_set.update({'Watermelon'}) #Adding values into our set using .update() method\n",
    "fruit_set"
   ]
  },
  {
   "cell_type": "code",
   "execution_count": 74,
   "id": "ac33dbd2-2e30-45b2-a7c5-237168fe7114",
   "metadata": {},
   "outputs": [
    {
     "data": {
      "text/plain": [
       "{'Watermelon', 'apple', 'mango', 'orange'}"
      ]
     },
     "execution_count": 74,
     "metadata": {},
     "output_type": "execute_result"
    }
   ],
   "source": [
    "fruit_set.update({'Watermelon'})\n",
    "fruit_set"
   ]
  },
  {
   "cell_type": "code",
   "execution_count": 60,
   "id": "ca2790a5-34ad-47f3-93ed-21c21fff4789",
   "metadata": {},
   "outputs": [
    {
     "data": {
      "text/plain": [
       "set"
      ]
     },
     "execution_count": 60,
     "metadata": {},
     "output_type": "execute_result"
    }
   ],
   "source": [
    "new_set = set() #Creating a set using the second way\n",
    "type(new_set)"
   ]
  },
  {
   "cell_type": "code",
   "execution_count": null,
   "id": "530cd052-96fa-4af4-8518-e57d5ed01476",
   "metadata": {},
   "outputs": [],
   "source": [
    "fruit_set.remove('Watermelon') #Removing a value that is not needed.\n",
    "print(fruit_set)"
   ]
  },
  {
   "cell_type": "code",
   "execution_count": 84,
   "id": "3908597d-5cad-4c58-9e8a-8719762e8af0",
   "metadata": {},
   "outputs": [
    {
     "data": {
      "text/plain": [
       "{'apple', 'mango', 'orange'}"
      ]
     },
     "execution_count": 84,
     "metadata": {},
     "output_type": "execute_result"
    }
   ],
   "source": [
    "fruit_set.discard('Watermelon') #Discard does the same as remove but does not throw an error if the item has \n",
    "#been removed and we want to remove it again.\n",
    "fruit_set"
   ]
  },
  {
   "cell_type": "code",
   "execution_count": 88,
   "id": "8163d663-30e1-4257-b1ef-91abfa9a9ed9",
   "metadata": {},
   "outputs": [
    {
     "data": {
      "text/plain": [
       "{'apple', 'mango'}"
      ]
     },
     "execution_count": 88,
     "metadata": {},
     "output_type": "execute_result"
    }
   ],
   "source": [
    "fruit_set.discard('orange')\n",
    "fruit_set"
   ]
  },
  {
   "cell_type": "markdown",
   "id": "c7037652-6f66-4cc2-8a7d-929918902bbb",
   "metadata": {},
   "source": [
    "---\n",
    "##### DICTIONARY\n",
    "\n",
    "---\n",
    "\n",
    "> A dictionary is a collection that is ordered, changeable and does not take duplicate values. They are used to store data in key value pairs. Whenever you declare and empty curly bracket ({}), python automatically sees it as a dictionary. Except in cases where values are passed and do not contain key value pair."
   ]
  },
  {
   "cell_type": "code",
   "execution_count": 91,
   "id": "62c09aa2-84d8-4df8-86d5-3c37da517d4e",
   "metadata": {},
   "outputs": [
    {
     "name": "stdout",
     "output_type": "stream",
     "text": [
      "<class 'dict'>\n"
     ]
    }
   ],
   "source": [
    "my_set = {}\n",
    "print(type(my_set))"
   ]
  },
  {
   "cell_type": "code",
   "execution_count": 114,
   "id": "1fa195e9-51c7-4a83-801d-43dc37ae9122",
   "metadata": {},
   "outputs": [
    {
     "data": {
      "text/plain": [
       "{'Key 1': 'Value 3', 'Key 2': 'Value 2'}"
      ]
     },
     "execution_count": 114,
     "metadata": {},
     "output_type": "execute_result"
    }
   ],
   "source": [
    "random_dict = {\n",
    "    'Key 1':'Value 1',\n",
    "    'Key 2':'Value 2',\n",
    "    'Key 1':'Value 3'}\n",
    "random_dict"
   ]
  },
  {
   "cell_type": "markdown",
   "id": "6c576d7d-e658-442e-beab-d8c2f45b4058",
   "metadata": {},
   "source": [
    " - **Accessing Dictionary Value.**"
   ]
  },
  {
   "cell_type": "code",
   "execution_count": 116,
   "id": "a1dea829-a0d5-4c04-adc4-a1fa00796cee",
   "metadata": {},
   "outputs": [
    {
     "ename": "KeyError",
     "evalue": "'Key 3'",
     "output_type": "error",
     "traceback": [
      "\u001b[1;31m---------------------------------------------------------------------------\u001b[0m",
      "\u001b[1;31mKeyError\u001b[0m                                  Traceback (most recent call last)",
      "Cell \u001b[1;32mIn[116], line 1\u001b[0m\n\u001b[1;32m----> 1\u001b[0m random_dict[\u001b[38;5;124m'\u001b[39m\u001b[38;5;124mKey 3\u001b[39m\u001b[38;5;124m'\u001b[39m]\n",
      "\u001b[1;31mKeyError\u001b[0m: 'Key 3'"
     ]
    }
   ],
   "source": [
    "random_dict['Key 3'] #This threw an error because there is no key 3 in the dictionary."
   ]
  },
  {
   "cell_type": "code",
   "execution_count": 118,
   "id": "fa2ebbcf-7d56-486a-858b-119836d6bc2a",
   "metadata": {},
   "outputs": [],
   "source": [
    "random_dict.get('Key 3') #This would not throw an error although there is no key 3"
   ]
  },
  {
   "cell_type": "code",
   "execution_count": 120,
   "id": "4e26939f-2227-4b96-aa6f-7fc8b6d67870",
   "metadata": {},
   "outputs": [
    {
     "data": {
      "text/plain": [
       "'Value 2'"
      ]
     },
     "execution_count": 120,
     "metadata": {},
     "output_type": "execute_result"
    }
   ],
   "source": [
    "random_dict.get('Key 2')"
   ]
  },
  {
   "cell_type": "markdown",
   "id": "16512330-a02b-4a13-9de8-c98e3ade5b05",
   "metadata": {},
   "source": [
    "### *A list and a dictionary cannot be used as a key*"
   ]
  },
  {
   "cell_type": "code",
   "execution_count": 135,
   "id": "b482b7ed-fa92-443d-a6ba-e49d6f413264",
   "metadata": {},
   "outputs": [
    {
     "name": "stdout",
     "output_type": "stream",
     "text": [
      "{'x': 3, 1: 2, 'my_tup': ('fruits', 3.14), 2.12: 'Victor', (True, False): 23}\n"
     ]
    }
   ],
   "source": [
    "dict_2 = { #A list and a dictionary cannot be used as a key\n",
    "    \"x\" : 3,\n",
    "    1 : [1, 2, 3, 3, 4, 5],\n",
    "    'my_tup' : (\"fruits\", 3.14),\n",
    "    2.12 : \"Victor\",\n",
    "    True : 2,\n",
    "    (True, False) : 23\n",
    "}\n",
    "print(dict_2)"
   ]
  },
  {
   "cell_type": "code",
   "execution_count": null,
   "id": "f3a90915-d8fa-4630-9a9e-12c0e010aae9",
   "metadata": {},
   "outputs": [],
   "source": [
    " "
   ]
  }
 ],
 "metadata": {
  "kernelspec": {
   "display_name": "Python 3 (ipykernel)",
   "language": "python",
   "name": "python3"
  },
  "language_info": {
   "codemirror_mode": {
    "name": "ipython",
    "version": 3
   },
   "file_extension": ".py",
   "mimetype": "text/x-python",
   "name": "python",
   "nbconvert_exporter": "python",
   "pygments_lexer": "ipython3",
   "version": "3.12.4"
  }
 },
 "nbformat": 4,
 "nbformat_minor": 5
}
