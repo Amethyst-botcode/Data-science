{
 "cells": [
  {
   "cell_type": "markdown",
   "id": "ca29e02d-4e9e-4ef8-afbc-27fba6d35449",
   "metadata": {},
   "source": [
    "#### INTEGERS\n",
    "\n",
    "---\n",
    "\n",
    "Integers are whole number and not a fraction number.\n",
    "\n",
    "---\n",
    "\n"
   ]
  },
  {
   "cell_type": "markdown",
   "id": "9ea8f194-4c03-49c3-8884-1af2681c8013",
   "metadata": {},
   "source": [
    "###### Arithmetic Operatiobs with integers\n",
    "Additions (+) <br>\n",
    "Subtractions (-) <br>\n",
    "Division (/, //) <br>\n",
    "Multiplication (*) <br>\n",
    "Modulo (%) <br>\n",
    "Exponential - raise to power (**)\n"
   ]
  },
  {
   "cell_type": "code",
   "execution_count": 3,
   "id": "f02cdfb5-2d73-43b0-850b-d1664c87e10e",
   "metadata": {},
   "outputs": [
    {
     "data": {
      "text/plain": [
       "int"
      ]
     },
     "execution_count": 3,
     "metadata": {},
     "output_type": "execute_result"
    }
   ],
   "source": [
    "type(52)"
   ]
  },
  {
   "cell_type": "code",
   "execution_count": 5,
   "id": "e57dfd02-3d0c-48e5-b3c5-a4fc5a57542a",
   "metadata": {},
   "outputs": [
    {
     "name": "stdout",
     "output_type": "stream",
     "text": [
      "4.5\n"
     ]
    }
   ],
   "source": [
    "# For the division sign (/), it divides and returns the decimal points.\n",
    "print(18/4)"
   ]
  },
  {
   "cell_type": "code",
   "execution_count": 7,
   "id": "301ff530-87fc-425d-8d5c-caeaf279d250",
   "metadata": {},
   "outputs": [
    {
     "name": "stdout",
     "output_type": "stream",
     "text": [
      "4\n"
     ]
    }
   ],
   "source": [
    "# For the divisipn sign (//), it divides and return only the whole number.\n",
    "print(18//4)"
   ]
  },
  {
   "cell_type": "code",
   "execution_count": 14,
   "id": "0331be60-386a-48df-a92f-bea88e3c6239",
   "metadata": {},
   "outputs": [
    {
     "name": "stdout",
     "output_type": "stream",
     "text": [
      "34 21 12 45\n"
     ]
    }
   ],
   "source": [
    "# Variables\n",
    "first_int = 34\n",
    "second_int = 21\n",
    "third_int = 12\n",
    "fourth_int = 45\n",
    "print(first_int, second_int, third_int, fourth_int)"
   ]
  },
  {
   "cell_type": "code",
   "execution_count": 12,
   "id": "091edc45-7f0f-4152-aede-bd044bb9096b",
   "metadata": {},
   "outputs": [
    {
     "name": "stdout",
     "output_type": "stream",
     "text": [
      "<class 'int'>\n"
     ]
    }
   ],
   "source": [
    "print(type(first_int))"
   ]
  },
  {
   "cell_type": "code",
   "execution_count": 16,
   "id": "009d3050-d419-4d55-91df-2196fc3137aa",
   "metadata": {},
   "outputs": [
    {
     "name": "stdout",
     "output_type": "stream",
     "text": [
      "55\n"
     ]
    }
   ],
   "source": [
    "# Addtion\n",
    "print (first_int + second_int)"
   ]
  },
  {
   "cell_type": "code",
   "execution_count": 18,
   "id": "81d38b6a-0be8-43b8-97d2-434396b51ec1",
   "metadata": {},
   "outputs": [
    {
     "name": "stdout",
     "output_type": "stream",
     "text": [
      "-22\n"
     ]
    }
   ],
   "source": [
    "# Subtraction\n",
    "print (third_int - first_int)"
   ]
  },
  {
   "cell_type": "code",
   "execution_count": 20,
   "id": "75f42b8a-16dd-4201-82d6-4a9595c7c074",
   "metadata": {},
   "outputs": [
    {
     "name": "stdout",
     "output_type": "stream",
     "text": [
      "22\n"
     ]
    }
   ],
   "source": [
    "# If we want to get postive values irrespective of the bigger or smaller, we use absolute\n",
    "print (abs(third_int - first_int))"
   ]
  },
  {
   "cell_type": "code",
   "execution_count": 22,
   "id": "1deab26e-e072-4293-abf8-e087d6925fb4",
   "metadata": {},
   "outputs": [
    {
     "name": "stdout",
     "output_type": "stream",
     "text": [
      "9\n"
     ]
    }
   ],
   "source": [
    "#Modulo returns the reminder of the division\n",
    "print(second_int % third_int)"
   ]
  },
  {
   "cell_type": "code",
   "execution_count": 24,
   "id": "20270067-eb0a-4ba3-a885-f70f3ca38a6f",
   "metadata": {},
   "outputs": [
    {
     "name": "stdout",
     "output_type": "stream",
     "text": [
      "2386420683693101056\n"
     ]
    }
   ],
   "source": [
    "#Exponential \n",
    "print(first_int ** third_int)"
   ]
  },
  {
   "cell_type": "markdown",
   "id": "bd18f173-390b-4cd6-8216-d184fb29faab",
   "metadata": {},
   "source": [
    "---\n",
    "## Order of precedence \n",
    "---\n",
    ">B -> brackets <br>\n",
    ">E -> exponential <br>\n",
    ">D -> Division <br>\n",
    ">M -> Multiplication <br>\n",
    ">A -> Addition <br>\n",
    "> S -> Subtraction"
   ]
  },
  {
   "cell_type": "code",
   "execution_count": 34,
   "id": "09b1916c-9a80-4456-9dce-1dbc538abff5",
   "metadata": {},
   "outputs": [
    {
     "data": {
      "text/plain": [
       "2.0"
      ]
     },
     "execution_count": 34,
     "metadata": {},
     "output_type": "execute_result"
    }
   ],
   "source": [
    "(9/3) * (2%5) / (81 ** (1/4))"
   ]
  },
  {
   "cell_type": "markdown",
   "id": "111445ae-0805-46a3-8cd7-a43d68c64978",
   "metadata": {},
   "source": [
    "## Floating  point numbers.\n"
   ]
  },
  {
   "cell_type": "code",
   "execution_count": 37,
   "id": "7015c68f-618b-4f81-ba9a-52483a3d2630",
   "metadata": {},
   "outputs": [
    {
     "name": "stdout",
     "output_type": "stream",
     "text": [
      "<class 'float'>\n",
      "<class 'float'>\n",
      "<class 'int'>\n"
     ]
    }
   ],
   "source": [
    "float_1 = 1.0\n",
    "float_2 = 3.5\n",
    "int_1 = 1\n",
    "\n",
    "print(type(float_1))\n",
    "print(type(float_2))\n",
    "print(type(int_1))"
   ]
  },
  {
   "cell_type": "code",
   "execution_count": 39,
   "id": "734c16a4-d872-404b-949c-dbf8a356474f",
   "metadata": {},
   "outputs": [
    {
     "name": "stdout",
     "output_type": "stream",
     "text": [
      "4.5\n"
     ]
    }
   ],
   "source": [
    "print(float_1 + float_2)"
   ]
  },
  {
   "cell_type": "code",
   "execution_count": 43,
   "id": "00a8c99e-1525-45f0-bf08-c02ca67d9d08",
   "metadata": {},
   "outputs": [
    {
     "name": "stdout",
     "output_type": "stream",
     "text": [
      "1.0\n"
     ]
    }
   ],
   "source": [
    "print(float_1 ** float_2)"
   ]
  },
  {
   "cell_type": "code",
   "execution_count": 45,
   "id": "4151b64d-ac17-4e0d-a3d7-e15b6b5e51ea",
   "metadata": {},
   "outputs": [
    {
     "data": {
      "text/plain": [
       "34.0"
      ]
     },
     "execution_count": 45,
     "metadata": {},
     "output_type": "execute_result"
    }
   ],
   "source": [
    "# You can convert or typecasting an integer into a float and vice versa\n",
    "float(first_int)"
   ]
  },
  {
   "cell_type": "code",
   "execution_count": 51,
   "id": "4eb72adb-0aeb-4192-b246-5acc1df4b16e",
   "metadata": {},
   "outputs": [
    {
     "data": {
      "text/plain": [
       "3"
      ]
     },
     "execution_count": 51,
     "metadata": {},
     "output_type": "execute_result"
    }
   ],
   "source": [
    "# Incase you want to run a code ignoring the number after the point\n",
    "3 ** int(float_1)"
   ]
  },
  {
   "cell_type": "markdown",
   "id": "c10097c5-1e07-4f48-be0f-5d6a84bc4c35",
   "metadata": {},
   "source": [
    "### Strings and operations\n",
    "------"
   ]
  },
  {
   "cell_type": "code",
   "execution_count": 69,
   "id": "d99e70ef-4515-43df-b4bf-29d7142dab7e",
   "metadata": {},
   "outputs": [
    {
     "name": "stdout",
     "output_type": "stream",
     "text": [
      "My name is Naomi\n",
      "I am a Data Scientist\n",
      "Talk is cheap show me the code\n"
     ]
    }
   ],
   "source": [
    "my_str_1 = 'My name is Naomi'\n",
    "my_str_2 = \"I am a Data Scientist\"\n",
    "my_str_3 = \"\"\"Talk is cheap show me the code\"\"\"\n",
    "\n",
    "print(my_str_1)\n",
    "print(my_str_2)\n",
    "print(my_str_3)"
   ]
  },
  {
   "cell_type": "code",
   "execution_count": 71,
   "id": "a21a490e-5cac-44b5-8b3f-58e3926d463b",
   "metadata": {},
   "outputs": [
    {
     "name": "stdout",
     "output_type": "stream",
     "text": [
      "30\n"
     ]
    }
   ],
   "source": [
    "#Len: this string counts the number of characters including the spaces.\n",
    "print(len(my_str_3))"
   ]
  },
  {
   "cell_type": "code",
   "execution_count": 41,
   "id": "8291a8ad-a298-448c-9f7c-036e4697f21a",
   "metadata": {},
   "outputs": [
    {
     "name": "stdout",
     "output_type": "stream",
     "text": [
      "Hello World\n"
     ]
    }
   ],
   "source": [
    "my_str_1 = \"Hello World\"\n",
    "print(my_str_1)"
   ]
  },
  {
   "cell_type": "code",
   "execution_count": 43,
   "id": "259504d6-f8cc-46d8-aaac-9752ac0d0e00",
   "metadata": {},
   "outputs": [
    {
     "data": {
      "text/plain": [
       "'World'"
      ]
     },
     "execution_count": 43,
     "metadata": {},
     "output_type": "execute_result"
    }
   ],
   "source": [
    "#Slicing strings using range\n",
    "my_str_1[6:11]"
   ]
  },
  {
   "cell_type": "code",
   "execution_count": 45,
   "id": "1306800f-4c47-4bb8-b6f1-7e8add40b995",
   "metadata": {},
   "outputs": [
    {
     "data": {
      "text/plain": [
       "'World'"
      ]
     },
     "execution_count": 45,
     "metadata": {},
     "output_type": "execute_result"
    }
   ],
   "source": [
    "#We could also write it like this\n",
    "my_str_1[6:len(my_str_1)]"
   ]
  },
  {
   "cell_type": "code",
   "execution_count": 47,
   "id": "884569f1-a5c3-4162-a699-f34a07312be5",
   "metadata": {},
   "outputs": [
    {
     "data": {
      "text/plain": [
       "'Hello'"
      ]
     },
     "execution_count": 47,
     "metadata": {},
     "output_type": "execute_result"
    }
   ],
   "source": [
    "my_str_1[ :5]"
   ]
  },
  {
   "cell_type": "code",
   "execution_count": 49,
   "id": "c8179597-c9de-466c-877c-caf0fd909e5f",
   "metadata": {},
   "outputs": [
    {
     "data": {
      "text/plain": [
       "'Hello World'"
      ]
     },
     "execution_count": 49,
     "metadata": {},
     "output_type": "execute_result"
    }
   ],
   "source": [
    "my_str_1[0: ]"
   ]
  },
  {
   "cell_type": "markdown",
   "id": "69230c70-5778-4d3c-86ec-922914b931f4",
   "metadata": {},
   "source": [
    "* The first opening is for the first character in the string\n",
    "* The last one after the second column is the last character in the string\n"
   ]
  },
  {
   "cell_type": "code",
   "execution_count": 60,
   "id": "dad2c2e4-8525-4e75-8767-609cae7c1328",
   "metadata": {},
   "outputs": [
    {
     "data": {
      "text/plain": [
       "'Hello World'"
      ]
     },
     "execution_count": 60,
     "metadata": {},
     "output_type": "execute_result"
    }
   ],
   "source": [
    "#Say we want to skip a character\n",
    "my_str_1[ : : 1]"
   ]
  },
  {
   "cell_type": "code",
   "execution_count": 53,
   "id": "04abf776-f4b7-4fdf-bf0d-bb12fc8bcb06",
   "metadata": {},
   "outputs": [
    {
     "data": {
      "text/plain": [
       "'HloWrd'"
      ]
     },
     "execution_count": 53,
     "metadata": {},
     "output_type": "execute_result"
    }
   ],
   "source": [
    "my_str_1 [ : : 2]"
   ]
  },
  {
   "cell_type": "markdown",
   "id": "c53cc00e-edda-44b0-ac1f-11e4ce14604c",
   "metadata": {},
   "source": [
    "**Positive indexing starts from 0. The first character of the string has an index of 0, the second character has an index of 1, and so on.**\n",
    "\n",
    "**Negative indexing starts from -1. The last character has an index of -1 and the second last character has an index of -2 and so on** "
   ]
  },
  {
   "cell_type": "code",
   "execution_count": 56,
   "id": "b44fa231-18a0-4473-aa86-735755134a5d",
   "metadata": {},
   "outputs": [
    {
     "data": {
      "text/plain": [
       "'d'"
      ]
     },
     "execution_count": 56,
     "metadata": {},
     "output_type": "execute_result"
    }
   ],
   "source": [
    "my_str_1[-1]"
   ]
  },
  {
   "cell_type": "code",
   "execution_count": 58,
   "id": "9916d39b-db5b-416b-af04-3423cbf8d633",
   "metadata": {},
   "outputs": [
    {
     "data": {
      "text/plain": [
       "'dlro'"
      ]
     },
     "execution_count": 58,
     "metadata": {},
     "output_type": "execute_result"
    }
   ],
   "source": [
    "my_str_1[-1:-5:-1]"
   ]
  },
  {
   "cell_type": "markdown",
   "id": "b16f0848-c431-4837-8421-ed4edbddb934",
   "metadata": {},
   "source": [
    "---\n",
    "Formatting string in python using placeholders\n",
    "\n",
    "####\n",
    "What are placeholders??\n",
    "Placeholders are containers for holding variables thay are represented in a curly bracket {}\n"
   ]
  },
  {
   "cell_type": "code",
   "execution_count": null,
   "id": "32e84355-d5c7-47f6-8df0-2ee6921db20b",
   "metadata": {},
   "outputs": [],
   "source": []
  }
 ],
 "metadata": {
  "kernelspec": {
   "display_name": "Python 3 (ipykernel)",
   "language": "python",
   "name": "python3"
  },
  "language_info": {
   "codemirror_mode": {
    "name": "ipython",
    "version": 3
   },
   "file_extension": ".py",
   "mimetype": "text/x-python",
   "name": "python",
   "nbconvert_exporter": "python",
   "pygments_lexer": "ipython3",
   "version": "3.12.4"
  }
 },
 "nbformat": 4,
 "nbformat_minor": 5
}
