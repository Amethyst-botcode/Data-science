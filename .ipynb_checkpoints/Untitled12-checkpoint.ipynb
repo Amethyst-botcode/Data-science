{
  "nbformat": 4,
  "nbformat_minor": 0,
  "metadata": {
    "colab": {
      "provenance": []
    },
    "kernelspec": {
      "name": "python3",
      "display_name": "Python 3"
    },
    "language_info": {
      "name": "python"
    }
  },
  "cells": [
    {
      "cell_type": "markdown",
      "source": [
        "**Print Funtion**:\n",
        "This is a statement used to print information on the screen"
      ],
      "metadata": {
        "id": "xJ741XOOdSkO"
      }
    },
    {
      "cell_type": "code",
      "execution_count": 1,
      "metadata": {
        "colab": {
          "base_uri": "https://localhost:8080/"
        },
        "id": "u41hRAh_dNkx",
        "outputId": "fc45425b-80df-4ade-96f1-6d01ce14e899"
      },
      "outputs": [
        {
          "output_type": "stream",
          "name": "stdout",
          "text": [
            "2\n"
          ]
        }
      ],
      "source": [
        "print(2)"
      ]
    },
    {
      "cell_type": "code",
      "source": [
        "print(2"
      ],
      "metadata": {
        "colab": {
          "base_uri": "https://localhost:8080/",
          "height": 106
        },
        "id": "2iHghj9DdmMi",
        "outputId": "3b000f5c-d7b1-4e85-f02c-68761cc42e78"
      },
      "execution_count": 2,
      "outputs": [
        {
          "output_type": "error",
          "ename": "SyntaxError",
          "evalue": "incomplete input (<ipython-input-2-46ee6d77a103>, line 1)",
          "traceback": [
            "\u001b[0;36m  File \u001b[0;32m\"<ipython-input-2-46ee6d77a103>\"\u001b[0;36m, line \u001b[0;32m1\u001b[0m\n\u001b[0;31m    print(2\u001b[0m\n\u001b[0m           ^\u001b[0m\n\u001b[0;31mSyntaxError\u001b[0m\u001b[0;31m:\u001b[0m incomplete input\n"
          ]
        }
      ]
    },
    {
      "cell_type": "markdown",
      "source": [
        "> Python is a cas-sensitive programming language <br>\n",
        "so print and Print is not same in python"
      ],
      "metadata": {
        "id": "Rf8G_74Jd4Ip"
      }
    },
    {
      "cell_type": "code",
      "source": [
        "Print(2)"
      ],
      "metadata": {
        "colab": {
          "base_uri": "https://localhost:8080/",
          "height": 141
        },
        "id": "3nogluG5dqMD",
        "outputId": "fa3d6aed-f94b-4ebf-f0c0-68e1a9f2e78d"
      },
      "execution_count": 3,
      "outputs": [
        {
          "output_type": "error",
          "ename": "NameError",
          "evalue": "name 'Print' is not defined",
          "traceback": [
            "\u001b[0;31m---------------------------------------------------------------------------\u001b[0m",
            "\u001b[0;31mNameError\u001b[0m                                 Traceback (most recent call last)",
            "\u001b[0;32m<ipython-input-3-7fa17f87921e>\u001b[0m in \u001b[0;36m<cell line: 1>\u001b[0;34m()\u001b[0m\n\u001b[0;32m----> 1\u001b[0;31m \u001b[0mPrint\u001b[0m\u001b[0;34m(\u001b[0m\u001b[0;36m2\u001b[0m\u001b[0;34m)\u001b[0m\u001b[0;34m\u001b[0m\u001b[0;34m\u001b[0m\u001b[0m\n\u001b[0m",
            "\u001b[0;31mNameError\u001b[0m: name 'Print' is not defined"
          ]
        }
      ]
    },
    {
      "cell_type": "code",
      "source": [
        "print(2 + 3)"
      ],
      "metadata": {
        "colab": {
          "base_uri": "https://localhost:8080/"
        },
        "id": "odgOXYLNdvIn",
        "outputId": "b627c6ce-9fff-40d6-88ee-f90a0e9c8ea6"
      },
      "execution_count": 4,
      "outputs": [
        {
          "output_type": "stream",
          "name": "stdout",
          "text": [
            "5\n"
          ]
        }
      ]
    },
    {
      "cell_type": "markdown",
      "source": [
        "Variables are placeholders for changeable values <br>\n",
        "\n",
        "<p> How to define a variable? Conventions for defining a variable </p>\n",
        "\n",
        "<p>A variable name can not start with special character(@, #, -, +, !, `, ~, \", ', ^, &, %, $) or numbers</p> <br>\n",
        "\n",
        "<p> A variable can start with a letter, an underscore, it can be a mixture of letters, underscore </p>\n",
        "\n",
        "<strong> 3 Cases of defining a variable:\n",
        "Camel-Case: nameOne,\n",
        "Snake-Case: name_one,\n",
        "Pascal-Case: NameOne\n",
        "</strong>"
      ],
      "metadata": {
        "id": "0qBz6l_Ve4Ut"
      }
    },
    {
      "cell_type": "code",
      "source": [
        "num = 2\n",
        "NuM = 3\n",
        "\n",
        "print(num)"
      ],
      "metadata": {
        "colab": {
          "base_uri": "https://localhost:8080/"
        },
        "id": "YbyRC6dYep_-",
        "outputId": "ad50475a-eb1e-45f1-9ba1-7a9a1f33d350"
      },
      "execution_count": 6,
      "outputs": [
        {
          "output_type": "stream",
          "name": "stdout",
          "text": [
            "2\n"
          ]
        }
      ]
    },
    {
      "cell_type": "code",
      "source": [
        "print(NuM + 6)"
      ],
      "metadata": {
        "colab": {
          "base_uri": "https://localhost:8080/"
        },
        "id": "E6cO_InDiLct",
        "outputId": "90faf2eb-df16-4b66-ed4a-b77d616d75fc"
      },
      "execution_count": 7,
      "outputs": [
        {
          "output_type": "stream",
          "name": "stdout",
          "text": [
            "9\n"
          ]
        }
      ]
    },
    {
      "cell_type": "code",
      "source": [],
      "metadata": {
        "id": "4YZaOnxtikZ-"
      },
      "execution_count": null,
      "outputs": []
    }
  ]
}