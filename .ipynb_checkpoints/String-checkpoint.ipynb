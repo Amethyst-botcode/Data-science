{
 "cells": [
  {
   "cell_type": "markdown",
   "id": "a199117b-7b00-4d83-a726-6da2d62f8748",
   "metadata": {},
   "source": [
    "---\n",
    "##### Escape Character\n",
    "\n",
    "---\n",
    "\n",
    "* An escape character is a back slash( \\ ) followed by the character you want to enter and after.\n",
    "\n",
    "Example:"
   ]
  },
  {
   "cell_type": "code",
   "execution_count": 8,
   "id": "267798b0-9770-47bb-80be-e0c6c4fd2428",
   "metadata": {},
   "outputs": [
    {
     "name": "stdout",
     "output_type": "stream",
     "text": [
      "The HOC said, \"She wont be available today\"\n"
     ]
    }
   ],
   "source": [
    "reported_speech = \"The HOC said, \\\"She wont be available today\\\"\" \n",
    "print(reported_speech)"
   ]
  },
  {
   "cell_type": "code",
   "execution_count": 10,
   "id": "5ec2ee72-c5a4-4d3e-ac6e-18ceafbcb98c",
   "metadata": {},
   "outputs": [
    {
     "name": "stdout",
     "output_type": "stream",
     "text": [
      "I don't like oats\n"
     ]
    }
   ],
   "source": [
    "statement = 'I don\\'t like oats'\n",
    "print(statement)"
   ]
  },
  {
   "cell_type": "markdown",
   "id": "2c929368-5fdc-4d47-86b7-e0e816466bfb",
   "metadata": {},
   "source": [
    "**\\n - is for a new line** <br>\n",
    "**\\t -is for tab**\n"
   ]
  },
  {
   "cell_type": "code",
   "execution_count": 13,
   "id": "2280d7d1-7544-426a-87ad-30c67b5e5ea4",
   "metadata": {},
   "outputs": [
    {
     "name": "stdout",
     "output_type": "stream",
     "text": [
      "I am writing on the first line I am writing on the second line I am writing on the third line\n"
     ]
    }
   ],
   "source": [
    "Another_state = 'I am writing on the first line I am writing on the second line I am writing on the third line'\n",
    "print(Another_state)"
   ]
  },
  {
   "cell_type": "code",
   "execution_count": 16,
   "id": "68a27149-60ce-4ca0-b24c-46f2f2c589ef",
   "metadata": {},
   "outputs": [
    {
     "name": "stdout",
     "output_type": "stream",
     "text": [
      "I am writing on the first line \n",
      " I am writing on the second line \n",
      " I am writing on the third line\n"
     ]
    }
   ],
   "source": [
    "Anotherstate = 'I am writing on the first line \\n I am writing on the second line \\n I am writing on the third line'\n",
    "print(Anotherstate)"
   ]
  },
  {
   "cell_type": "code",
   "execution_count": 18,
   "id": "421fad62-d7ed-4e85-949b-912a11782db1",
   "metadata": {},
   "outputs": [
    {
     "name": "stdout",
     "output_type": "stream",
     "text": [
      "I am writing on the first line \n",
      "\t I am writing on the second line \n",
      "\t I am writing on the third line\n"
     ]
    }
   ],
   "source": [
    "Anotherstate = 'I am writing on the first line \\n\\t I am writing on the second line \\n\\t I am writing on the third line'\n",
    "print(Anotherstate)"
   ]
  },
  {
   "cell_type": "markdown",
   "id": "636f534b-9ce0-4db3-9834-7074ed278813",
   "metadata": {},
   "source": [
    "#### **String Methods**"
   ]
  },
  {
   "cell_type": "code",
   "execution_count": 21,
   "id": "177dfc2b-a1e2-441d-9da3-f54f0945f756",
   "metadata": {},
   "outputs": [
    {
     "name": "stdout",
     "output_type": "stream",
     "text": [
      "I love books, and i buy them so much that i think i am addicted\n"
     ]
    }
   ],
   "source": [
    "my_txt = 'I love books, and i buy them so much that i think i am addicted'\n",
    "print(my_txt)"
   ]
  },
  {
   "cell_type": "code",
   "execution_count": 27,
   "id": "363bdd8e-40e1-4b26-8ba9-248899d4c07c",
   "metadata": {},
   "outputs": [
    {
     "data": {
      "text/plain": [
       "'i love books, and i buy them so much that i think i am addicted'"
      ]
     },
     "execution_count": 27,
     "metadata": {},
     "output_type": "execute_result"
    }
   ],
   "source": [
    "#Converting my text to lowercase\n",
    "my_txt.lower()\n",
    "my_txt.casefold()"
   ]
  },
  {
   "cell_type": "code",
   "execution_count": 25,
   "id": "48d4574b-a653-4162-9821-2481db3f637c",
   "metadata": {},
   "outputs": [
    {
     "data": {
      "text/plain": [
       "'I LOVE BOOKS, AND I BUY THEM SO MUCH THAT I THINK I AM ADDICTED'"
      ]
     },
     "execution_count": 25,
     "metadata": {},
     "output_type": "execute_result"
    }
   ],
   "source": [
    "#Coverting my text to uppercase\n",
    "my_txt.upper()"
   ]
  },
  {
   "cell_type": "code",
   "execution_count": 31,
   "id": "2081ec35-8051-4248-8e5c-e448644a2c0b",
   "metadata": {},
   "outputs": [
    {
     "data": {
      "text/plain": [
       "5"
      ]
     },
     "execution_count": 31,
     "metadata": {},
     "output_type": "execute_result"
    }
   ],
   "source": [
    "#Counting the number of times we have the letter (i) in my text\n",
    "my_txt.count('i')"
   ]
  },
  {
   "cell_type": "code",
   "execution_count": 33,
   "id": "73c641ee-8458-45fb-9dc5-2e3beec37d70",
   "metadata": {},
   "outputs": [
    {
     "data": {
      "text/plain": [
       "5"
      ]
     },
     "execution_count": 33,
     "metadata": {},
     "output_type": "execute_result"
    }
   ],
   "source": [
    "my_txt.count('i', 10)"
   ]
  },
  {
   "cell_type": "code",
   "execution_count": 35,
   "id": "04129ac0-a7c9-49a8-b916-5d6bf853ddc4",
   "metadata": {},
   "outputs": [
    {
     "data": {
      "text/plain": [
       "True"
      ]
     },
     "execution_count": 35,
     "metadata": {},
     "output_type": "execute_result"
    }
   ],
   "source": [
    "#Checking if my strings ends with d\n",
    "my_txt.endswith('d')"
   ]
  },
  {
   "cell_type": "code",
   "execution_count": 37,
   "id": "ef2dcc4b-6893-4b96-9328-835fe61fa1fe",
   "metadata": {},
   "outputs": [
    {
     "data": {
      "text/plain": [
       "False"
      ]
     },
     "execution_count": 37,
     "metadata": {},
     "output_type": "execute_result"
    }
   ],
   "source": [
    "#Checking if my strings starts with d\n",
    "my_txt.startswith('d')"
   ]
  },
  {
   "cell_type": "code",
   "execution_count": 56,
   "id": "c65e5365-9796-45b7-9bf0-6b306b7dbf05",
   "metadata": {},
   "outputs": [
    {
     "name": "stdout",
     "output_type": "stream",
     "text": [
      "    I love books, and i buy them so much that i think i am addicted    \n"
     ]
    }
   ],
   "source": [
    "my_txt = '    I love books, and i buy them so much that i think i am addicted    '\n",
    "print(my_txt)"
   ]
  },
  {
   "cell_type": "markdown",
   "id": "b53efa3c-4ef8-487b-9574-07a47ad94c1f",
   "metadata": {},
   "source": [
    "* Removing the spaces in the strings."
   ]
  },
  {
   "cell_type": "code",
   "execution_count": 58,
   "id": "48833997-7251-4fd3-9ca0-d1010cc78b42",
   "metadata": {},
   "outputs": [
    {
     "data": {
      "text/plain": [
       "'I love books, and i buy them so much that i think i am addicted    '"
      ]
     },
     "execution_count": 58,
     "metadata": {},
     "output_type": "execute_result"
    }
   ],
   "source": [
    "my_txt.lstrip()"
   ]
  },
  {
   "cell_type": "code",
   "execution_count": 52,
   "id": "52a77134-c261-4487-a808-8b93e59432fd",
   "metadata": {},
   "outputs": [
    {
     "data": {
      "text/plain": [
       "'    I love books, and i buy them so much that i think i am addicted'"
      ]
     },
     "execution_count": 52,
     "metadata": {},
     "output_type": "execute_result"
    }
   ],
   "source": [
    "my_txt.rstrip()"
   ]
  },
  {
   "cell_type": "code",
   "execution_count": 45,
   "id": "ea872d74-82e0-401e-b338-215b8f478d9f",
   "metadata": {},
   "outputs": [
    {
     "data": {
      "text/plain": [
       "'I love books, and i buy them so much that i think i am addicted'"
      ]
     },
     "execution_count": 45,
     "metadata": {},
     "output_type": "execute_result"
    }
   ],
   "source": [
    "my_txt.strip()"
   ]
  },
  {
   "cell_type": "markdown",
   "id": "cffa4d0d-abd6-470b-9d45-e996b17c0ddb",
   "metadata": {},
   "source": [
    "* Creating a list"
   ]
  },
  {
   "cell_type": "code",
   "execution_count": 63,
   "id": "17975a00-f287-436a-a10f-6e67e5befe25",
   "metadata": {},
   "outputs": [
    {
     "name": "stdout",
     "output_type": "stream",
     "text": [
      "Yomi, Naomi, Victor, Grace, Madu, Opeyemi\n"
     ]
    }
   ],
   "source": [
    "Names = 'Yomi, Naomi, Victor, Grace, Madu, Opeyemi'\n",
    "print(Names)"
   ]
  },
  {
   "cell_type": "code",
   "execution_count": 65,
   "id": "3bfcc8e6-efc8-4dcf-9d18-d5143b432d3c",
   "metadata": {},
   "outputs": [
    {
     "data": {
      "text/plain": [
       "['Yomi, Naomi, Victor, Grace, Madu, Opeyemi']"
      ]
     },
     "execution_count": 65,
     "metadata": {},
     "output_type": "execute_result"
    }
   ],
   "source": [
    "Names.split(',  ')"
   ]
  },
  {
   "cell_type": "code",
   "execution_count": 69,
   "id": "160504e0-fb9c-4284-afa3-0fa8f4e8b285",
   "metadata": {},
   "outputs": [
    {
     "data": {
      "text/plain": [
       "'Yomi, Naomi, Victor, Grace, Madu, Opeyemi'"
      ]
     },
     "execution_count": 69,
     "metadata": {},
     "output_type": "execute_result"
    }
   ],
   "source": [
    "\"\".join(Names)"
   ]
  },
  {
   "cell_type": "code",
   "execution_count": null,
   "id": "baa4d89b-a18b-4fc0-88a4-5c07cd532457",
   "metadata": {},
   "outputs": [],
   "source": []
  }
 ],
 "metadata": {
  "kernelspec": {
   "display_name": "Python 3 (ipykernel)",
   "language": "python",
   "name": "python3"
  },
  "language_info": {
   "codemirror_mode": {
    "name": "ipython",
    "version": 3
   },
   "file_extension": ".py",
   "mimetype": "text/x-python",
   "name": "python",
   "nbconvert_exporter": "python",
   "pygments_lexer": "ipython3",
   "version": "3.12.4"
  }
 },
 "nbformat": 4,
 "nbformat_minor": 5
}
