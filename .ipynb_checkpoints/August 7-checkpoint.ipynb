{
 "cells": [
  {
   "cell_type": "markdown",
   "id": "54db0c32-364f-4f92-8291-ed4912e78e4c",
   "metadata": {},
   "source": [
    "---\n",
    "\n",
    "##### CONTROL FLOW CONTINUED\n",
    "\n",
    "---"
   ]
  },
  {
   "cell_type": "markdown",
   "id": "e539ff2c-a7d5-4fdf-ae81-d2c07bd973e3",
   "metadata": {},
   "source": [
    ">IF executes if a specfied condition is true <br>\n",
    ">Let's take example:"
   ]
  },
  {
   "cell_type": "code",
   "execution_count": 4,
   "id": "d79de223-29e3-45b5-9a9f-6d2fa2871677",
   "metadata": {},
   "outputs": [
    {
     "name": "stdin",
     "output_type": "stream",
     "text": [
      "Enter your age here:  20\n"
     ]
    },
    {
     "name": "stdout",
     "output_type": "stream",
     "text": [
      "Citizen is eligible to vote\n"
     ]
    }
   ],
   "source": [
    "min_age = 18\n",
    "user_age = int(input(\"Enter your age here: \"))\n",
    "if user_age >= min_age:\n",
    "    print('Citizen is eligible to vote') #The statement only executes if the \"if\" statement is true\n"
   ]
  },
  {
   "cell_type": "code",
   "execution_count": 6,
   "id": "1940a72b-e089-40ae-a351-7622c16fe8aa",
   "metadata": {},
   "outputs": [
    {
     "name": "stdin",
     "output_type": "stream",
     "text": [
      "Enter your age here:  17\n"
     ]
    },
    {
     "name": "stdout",
     "output_type": "stream",
     "text": [
      "Citizen should be 18years to vote\n"
     ]
    }
   ],
   "source": [
    "min_age = 18\n",
    "user_age = int(input(\"Enter your age here: \"))\n",
    "if user_age >= min_age:\n",
    "    print('Citizen is eligible to vote')\n",
    "else:\n",
    "    print(f'Citizen should be {min_age}years to vote') #Else statement executes if the statement is not true\n",
    "    "
   ]
  },
  {
   "cell_type": "code",
   "execution_count": 29,
   "id": "eb8c2fe8-255d-449f-9439-882d63ef1df1",
   "metadata": {},
   "outputs": [
    {
     "name": "stdin",
     "output_type": "stream",
     "text": [
      "Enter your age here:  18\n"
     ]
    },
    {
     "name": "stdout",
     "output_type": "stream",
     "text": [
      "Citizen is eligible to vote\n"
     ]
    }
   ],
   "source": [
    "min_age = 18\n",
    "max_age = 60\n",
    "user_age = input(\"Enter your age here: \")\n",
    "if user_age.isdigit(): #Check if the user input is a number [0-9]\n",
    "    user_age = int(user_age)\n",
    "    if (user_age >= min_age) and (user_age <= max_age):\n",
    "        print('Citizen is eligible to vote')\n",
    "    else:\n",
    "        print('Citizen age is outside the voting bracket')\n",
    "else:\n",
    "    print('Citizen input is invalid')"
   ]
  },
  {
   "cell_type": "markdown",
   "id": "8363dbb9-1e2c-4215-87b4-9c0a300e5e0f",
   "metadata": {},
   "source": [
    "**Using nested and the elif (else if)**"
   ]
  },
  {
   "cell_type": "code",
   "execution_count": 36,
   "id": "661200c3-3a9f-4740-abe5-b4bdb1e64518",
   "metadata": {},
   "outputs": [
    {
     "name": "stdin",
     "output_type": "stream",
     "text": [
      "Enter your age here:  12\n"
     ]
    },
    {
     "name": "stdout",
     "output_type": "stream",
     "text": [
      "Citizen is less than minimum age\n"
     ]
    }
   ],
   "source": [
    "min_age = 18\n",
    "max_age = 60\n",
    "user_age = input(\"Enter your age here: \")\n",
    "if user_age.isdigit(): #Check if the user input is a number [0-9]\n",
    "    user_age = int(user_age)\n",
    "    if (user_age >= min_age) and (user_age <= max_age):\n",
    "        print('Citizen is eligible to vote')\n",
    "    elif user_age < min_age: \n",
    "        print('Citizen is less than minimum age')\n",
    "    else:\n",
    "        print('Citizen age is outside the voting bracket')\n",
    "else:\n",
    "    print('Citizen input is invalid')"
   ]
  },
  {
   "cell_type": "code",
   "execution_count": 50,
   "id": "a265629d-3e55-46a1-9cd1-29e52dfaf006",
   "metadata": {},
   "outputs": [
    {
     "ename": "SyntaxError",
     "evalue": "invalid syntax (2121370803.py, line 14)",
     "output_type": "error",
     "traceback": [
      "\u001b[1;36m  Cell \u001b[1;32mIn[50], line 14\u001b[1;36m\u001b[0m\n\u001b[1;33m    else:\u001b[0m\n\u001b[1;37m    ^\u001b[0m\n\u001b[1;31mSyntaxError\u001b[0m\u001b[1;31m:\u001b[0m invalid syntax\n"
     ]
    }
   ],
   "source": [
    "#Now we want to add the voters id that our database will accepts and if something else is entered than it is a fraud\n",
    "min_age = 18\n",
    "max_age = 60\n",
    "user_age = input(\"Enter your age here: \")\n",
    "user_card = int(input(\"Enter your card number: \"))\n",
    "voter_card_num = [123456789, 987654321, 22468910]\n",
    "if user_age.isdigit(): #Check if the user input is a number [0-9]\n",
    "    user_age = int(user_age)\n",
    "    if (user_age >= min_age) and (user_age <= max_age):\n",
    "        if user_card in voter_card_num:\n",
    "            print('Citizen is valid and eligible to vote')\n",
    "        else:\n",
    "            print(\"Citizen is within the bracket but a fraud\")\n",
    "        else:\n",
    "            print(\"Baba, you too old ooh\")\n",
    "        else:\n",
    "            print(\"Citizen input is invalid\")\n"
   ]
  },
  {
   "cell_type": "code",
   "execution_count": null,
   "id": "12a683b6-c947-43da-a153-7c25c84df466",
   "metadata": {},
   "outputs": [],
   "source": []
  }
 ],
 "metadata": {
  "kernelspec": {
   "display_name": "Python 3 (ipykernel)",
   "language": "python",
   "name": "python3"
  },
  "language_info": {
   "codemirror_mode": {
    "name": "ipython",
    "version": 3
   },
   "file_extension": ".py",
   "mimetype": "text/x-python",
   "name": "python",
   "nbconvert_exporter": "python",
   "pygments_lexer": "ipython3",
   "version": "3.12.4"
  }
 },
 "nbformat": 4,
 "nbformat_minor": 5
}
