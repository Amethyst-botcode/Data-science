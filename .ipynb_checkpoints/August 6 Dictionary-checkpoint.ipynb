{
 "cells": [
  {
   "cell_type": "code",
   "execution_count": 37,
   "id": "c476ca06-dc4e-4577-b503-6d7728863f80",
   "metadata": {},
   "outputs": [
    {
     "name": "stdin",
     "output_type": "stream",
     "text": [
      "Enter your name:  Sandra \n",
      "Enter your age:  20\n",
      "Enter your height in cm(c):  1.57\n",
      "Enter your course of study:  Data science\n"
     ]
    },
    {
     "name": "stdout",
     "output_type": "stream",
     "text": [
      "{'Name': 'Sandra ', 'Age': 20, 'Height': 1.57, 'Course': 'Data science'}\n"
     ]
    }
   ],
   "source": [
    "Person = {      #creating a dictionary\n",
    "    \"Name\" : input(\"Enter your name: \"),\n",
    "    \"Age\" : int(input(\"Enter your age: \")),\n",
    "    \"Height\" : float(input(\"Enter your height in cm(c): \")),\n",
    "    \"Course\" : input(\"Enter your course of study: \")}\n",
    "\n",
    "print(Person)"
   ]
  },
  {
   "cell_type": "code",
   "execution_count": 13,
   "id": "0fe88dc5-a943-412b-9f2d-e6a9304bf282",
   "metadata": {},
   "outputs": [
    {
     "data": {
      "text/plain": [
       "dict_keys(['Name', 'Age', 'Height', 'Course'])"
      ]
     },
     "execution_count": 13,
     "metadata": {},
     "output_type": "execute_result"
    }
   ],
   "source": [
    "#Getting keys and values in the person variable\n",
    "Person.keys()"
   ]
  },
  {
   "cell_type": "code",
   "execution_count": 17,
   "id": "7bb1a063-8128-47af-9dd4-38fd10260eb5",
   "metadata": {},
   "outputs": [
    {
     "name": "stdout",
     "output_type": "stream",
     "text": [
      "Name\n",
      "Age\n",
      "Height\n",
      "Course\n"
     ]
    }
   ],
   "source": [
    "for x in Person: #The value of x is the individual key for each loop that occured\n",
    "    print(x)"
   ]
  },
  {
   "cell_type": "code",
   "execution_count": 39,
   "id": "916d63b3-be9b-462f-97f9-7077641ea951",
   "metadata": {},
   "outputs": [
    {
     "data": {
      "text/plain": [
       "dict_values(['Sandra ', 20, 1.57, 'Data science'])"
      ]
     },
     "execution_count": 39,
     "metadata": {},
     "output_type": "execute_result"
    }
   ],
   "source": [
    "#Getting values from the person variable\n",
    "Person.values()"
   ]
  },
  {
   "cell_type": "code",
   "execution_count": 41,
   "id": "8555601e-d229-430a-a99e-8d434bfdb7b0",
   "metadata": {},
   "outputs": [
    {
     "data": {
      "text/plain": [
       "'Sandra '"
      ]
     },
     "execution_count": 41,
     "metadata": {},
     "output_type": "execute_result"
    }
   ],
   "source": [
    "Person[\"Name\"]"
   ]
  },
  {
   "cell_type": "code",
   "execution_count": 51,
   "id": "68ed09eb-0467-43a2-a371-19f8e814faae",
   "metadata": {},
   "outputs": [
    {
     "name": "stdout",
     "output_type": "stream",
     "text": [
      "Sandra \n",
      "24\n",
      "1.57\n",
      "Data science\n",
      "60\n"
     ]
    }
   ],
   "source": [
    "empty_list = list()\n",
    "for x in Person:\n",
    "    print(Person[x])\n",
    "    empty_list.append(x)\n",
    "    \n",
    "    "
   ]
  },
  {
   "cell_type": "code",
   "execution_count": 53,
   "id": "de530ae5-1744-441c-a063-65fe53b87fff",
   "metadata": {},
   "outputs": [
    {
     "data": {
      "text/plain": [
       "['Name', 'Age', 'Height', 'Course', 'Weight']"
      ]
     },
     "execution_count": 53,
     "metadata": {},
     "output_type": "execute_result"
    }
   ],
   "source": [
    "empty_list"
   ]
  },
  {
   "cell_type": "code",
   "execution_count": 27,
   "id": "b182a233-5bdd-499c-bbbf-d278b10b9187",
   "metadata": {},
   "outputs": [
    {
     "data": {
      "text/plain": [
       "'Ogunleye Moyosore'"
      ]
     },
     "execution_count": 27,
     "metadata": {},
     "output_type": "execute_result"
    }
   ],
   "source": [
    "Person.get('Name')"
   ]
  },
  {
   "cell_type": "code",
   "execution_count": 45,
   "id": "34ffe5c5-6b68-4dac-bfa2-79334bdf9b7a",
   "metadata": {},
   "outputs": [],
   "source": [
    "#Modifying a variable\n",
    "Person[\"Age\"] = 24"
   ]
  },
  {
   "cell_type": "code",
   "execution_count": 47,
   "id": "75396c3d-1bf8-4f2a-bc77-56aa3243fd81",
   "metadata": {},
   "outputs": [
    {
     "data": {
      "text/plain": [
       "{'Name': 'Sandra ', 'Age': 24, 'Height': 1.57, 'Course': 'Data science'}"
      ]
     },
     "execution_count": 47,
     "metadata": {},
     "output_type": "execute_result"
    }
   ],
   "source": [
    "Person"
   ]
  },
  {
   "cell_type": "code",
   "execution_count": 49,
   "id": "3347dbf1-571a-400e-aa13-fa45919d9790",
   "metadata": {},
   "outputs": [
    {
     "data": {
      "text/plain": [
       "{'Name': 'Sandra ',\n",
       " 'Age': 24,\n",
       " 'Height': 1.57,\n",
       " 'Course': 'Data science',\n",
       " 'Weight': 60}"
      ]
     },
     "execution_count": 49,
     "metadata": {},
     "output_type": "execute_result"
    }
   ],
   "source": [
    "Person[\"Weight\"] = 60\n",
    "Person"
   ]
  },
  {
   "cell_type": "code",
   "execution_count": 57,
   "id": "5bbd605b-82ef-4d73-a348-98b63cc431ee",
   "metadata": {},
   "outputs": [],
   "source": [
    "#Using update let's add to the dictionary\n",
    "Other_attr = {\n",
    "    \"Complexion\" : 'Black',\n",
    "    \"Home Town\" : 'Ibadan'\n",
    "}\n"
   ]
  },
  {
   "cell_type": "code",
   "execution_count": 59,
   "id": "9afaee12-99db-4e69-aeb6-4df7505c8530",
   "metadata": {},
   "outputs": [
    {
     "name": "stdout",
     "output_type": "stream",
     "text": [
      "{'Name': 'Sandra ', 'Age': 24, 'Height': 1.57, 'Course': 'Data science', 'Weight': 60, 'Complexion': 'Black', 'Home Town': 'Ibadan'}\n"
     ]
    }
   ],
   "source": [
    "Person.update(Other_attr)\n",
    "print(Person)"
   ]
  },
  {
   "cell_type": "code",
   "execution_count": 61,
   "id": "3d664c35-8651-482e-ab34-6ba09e2cc7b6",
   "metadata": {},
   "outputs": [
    {
     "data": {
      "text/plain": [
       "{'Name': 'Sandra ',\n",
       " 'Age': 24,\n",
       " 'Height': 1.57,\n",
       " 'Course': 'Data science',\n",
       " 'Weight': 60,\n",
       " 'Complexion': 'Black',\n",
       " 'Home Town': 'Ibadan'}"
      ]
     },
     "execution_count": 61,
     "metadata": {},
     "output_type": "execute_result"
    }
   ],
   "source": [
    "Person"
   ]
  },
  {
   "cell_type": "code",
   "execution_count": 63,
   "id": "1d4416cd-3231-4526-81d7-d20576a5b25a",
   "metadata": {},
   "outputs": [
    {
     "data": {
      "text/plain": [
       "{'Name': 'Sandra ',\n",
       " 'Height': 1.57,\n",
       " 'Course': 'Data science',\n",
       " 'Weight': 60,\n",
       " 'Complexion': 'Black',\n",
       " 'Home Town': 'Ibadan'}"
      ]
     },
     "execution_count": 63,
     "metadata": {},
     "output_type": "execute_result"
    }
   ],
   "source": [
    "Person.pop(\"Age\") #Removing a key and its variable from a dictionary\n",
    "Person"
   ]
  },
  {
   "cell_type": "code",
   "execution_count": 65,
   "id": "12db3107-e8b4-4fce-80f0-c7b44ec8a836",
   "metadata": {},
   "outputs": [
    {
     "data": {
      "text/plain": [
       "{'Name': 'Sandra ',\n",
       " 'Height': 1.57,\n",
       " 'Course': 'Data science',\n",
       " 'Weight': 60,\n",
       " 'Complexion': 'Black'}"
      ]
     },
     "execution_count": 65,
     "metadata": {},
     "output_type": "execute_result"
    }
   ],
   "source": [
    "Person.popitem() #Removing the last key and value from this dictionary\n",
    "Person"
   ]
  },
  {
   "cell_type": "code",
   "execution_count": 69,
   "id": "8063607f-3fde-4c40-9419-307180e53007",
   "metadata": {},
   "outputs": [],
   "source": [
    "Other_attr.clear() #Using clear to erase the keys and their values leaving us with an empty dictionary"
   ]
  },
  {
   "cell_type": "code",
   "execution_count": 71,
   "id": "57706174-d803-4fb6-b8e8-6696fb538770",
   "metadata": {},
   "outputs": [
    {
     "data": {
      "text/plain": [
       "{}"
      ]
     },
     "execution_count": 71,
     "metadata": {},
     "output_type": "execute_result"
    }
   ],
   "source": [
    "Other_attr"
   ]
  },
  {
   "cell_type": "code",
   "execution_count": 75,
   "id": "35b21631-7a33-4809-a0e9-ccf8b4409acc",
   "metadata": {},
   "outputs": [],
   "source": [
    "#let's create another dictionary\n",
    "family_dict ={\n",
    "    \"Father\" : {\n",
    "        \"Name\" : \"Victor\",\n",
    "        \"Age\" : 50,\n",
    "        \"Occupation\" : \"Farm\",\n",
    "    \"Responsibility\" : [\"Love your Wife\", \"Pay the dues\", \"Protect the fam\"]\n",
    "    }, \n",
    "\"Mother\" : {\n",
    "    \"Name\" : \"Abolarinwa\",\n",
    "    \"Age\" : 90,\n",
    "    \"Occupation\" : \"Fish seller\",\n",
    "    \"Responsibility\" : [],\n",
    "},\n",
    "\"Child\" : {\n",
    "    \"Name\" : \"Micheal\",\n",
    "    \"Age\" : \"Unknown\",\n",
    "    \"Occupation\" : \"Works at FURA\",\n",
    "    \"Responsibility\" : \"[]\"\n",
    "}\n",
    "}"
   ]
  },
  {
   "cell_type": "code",
   "execution_count": 77,
   "id": "34b867b1-a70d-4b53-b194-dfe76d7b120f",
   "metadata": {},
   "outputs": [
    {
     "data": {
      "text/plain": [
       "{'Father': {'Name': 'Victor',\n",
       "  'Age': 50,\n",
       "  'Occupation': 'Farm',\n",
       "  'Responsibility': ['Love your Wife', 'Pay the dues', 'Protect the fam']},\n",
       " 'Mother': {'Name': 'Abolarinwa',\n",
       "  'Age': 90,\n",
       "  'Occupation': 'Fish seller',\n",
       "  'Responsibility': []},\n",
       " 'Child': {'Name': 'Micheal',\n",
       "  'Age': 'Unknown',\n",
       "  'Occupation': 'Works at FURA',\n",
       "  'Responsibility': '[]'}}"
      ]
     },
     "execution_count": 77,
     "metadata": {},
     "output_type": "execute_result"
    }
   ],
   "source": [
    "family_dict"
   ]
  },
  {
   "cell_type": "code",
   "execution_count": 79,
   "id": "3f1e2b9d-95df-4fb5-b6b1-a5be813c08c1",
   "metadata": {},
   "outputs": [
    {
     "data": {
      "text/plain": [
       "dict_keys(['Father', 'Mother', 'Child'])"
      ]
     },
     "execution_count": 79,
     "metadata": {},
     "output_type": "execute_result"
    }
   ],
   "source": [
    "family_dict.keys()"
   ]
  },
  {
   "cell_type": "code",
   "execution_count": 81,
   "id": "979d5a19-4461-446a-b01b-287615b52947",
   "metadata": {},
   "outputs": [
    {
     "data": {
      "text/plain": [
       "dict_values([{'Name': 'Victor', 'Age': 50, 'Occupation': 'Farm', 'Responsibility': ['Love your Wife', 'Pay the dues', 'Protect the fam']}, {'Name': 'Abolarinwa', 'Age': 90, 'Occupation': 'Fish seller', 'Responsibility': []}, {'Name': 'Micheal', 'Age': 'Unknown', 'Occupation': 'Works at FURA', 'Responsibility': '[]'}])"
      ]
     },
     "execution_count": 81,
     "metadata": {},
     "output_type": "execute_result"
    }
   ],
   "source": [
    "family_dict.values()"
   ]
  },
  {
   "cell_type": "code",
   "execution_count": 86,
   "id": "bddfc291-48dd-4090-8dfc-b317e5cb6010",
   "metadata": {},
   "outputs": [
    {
     "name": "stdout",
     "output_type": "stream",
     "text": [
      "Father\n",
      "Mother\n",
      "Child\n"
     ]
    }
   ],
   "source": [
    "for keys in family_dict :\n",
    "    print(keys)"
   ]
  },
  {
   "cell_type": "code",
   "execution_count": 92,
   "id": "64f86e93-014d-422f-bfe7-73d16ff8e228",
   "metadata": {},
   "outputs": [
    {
     "data": {
      "text/plain": [
       "dict_items([('Father', {'Name': 'Victor', 'Age': 50, 'Occupation': 'Farm', 'Responsibility': ['Love your Wife', 'Pay the dues', 'Protect the fam']}), ('Mother', {'Name': 'Abolarinwa', 'Age': 90, 'Occupation': 'Fish seller', 'Responsibility': []}), ('Child', {'Name': 'Micheal', 'Age': 'Unknown', 'Occupation': 'Works at FURA', 'Responsibility': '[]'})])"
      ]
     },
     "execution_count": 92,
     "metadata": {},
     "output_type": "execute_result"
    }
   ],
   "source": [
    "family_dict.items()  #This returns a list of tuple that contains list and values"
   ]
  },
  {
   "cell_type": "code",
   "execution_count": 94,
   "id": "47586d42-2973-4558-8114-9834ccab060d",
   "metadata": {},
   "outputs": [
    {
     "name": "stdout",
     "output_type": "stream",
     "text": [
      "For key: Father\n",
      "Victor\n",
      "--------------------------------------------------\n",
      "\n",
      "For key: Mother\n",
      "Abolarinwa\n",
      "--------------------------------------------------\n",
      "\n",
      "For key: Child\n",
      "Micheal\n",
      "--------------------------------------------------\n",
      "\n"
     ]
    }
   ],
   "source": [
    "for key in family_dict.keys():\n",
    "    print(f\"For key: {key}\")\n",
    "    print(family_dict[key][\"Name\"])\n",
    "    print ('-----' * 10)\n",
    "    print()"
   ]
  },
  {
   "cell_type": "markdown",
   "id": "9faf0240-31b9-4ce5-94e1-52ac95a80c13",
   "metadata": {},
   "source": [
    "-----\n",
    "##### **CONTROL FLOW**\n",
    "\n",
    "----"
   ]
  },
  {
   "cell_type": "code",
   "execution_count": 98,
   "id": "1d5dc0e6-d2ae-4a7b-9a0b-28662c78ef76",
   "metadata": {},
   "outputs": [
    {
     "name": "stdout",
     "output_type": "stream",
     "text": [
      "Yeah, x is a list\n"
     ]
    }
   ],
   "source": [
    "x = [1, 2, 3, 4, 5, 6] #Create a list\n",
    "\n",
    "if type(x) == list : \n",
    "    print(\"Yeah, x is a list\")\n",
    "    "
   ]
  },
  {
   "cell_type": "code",
   "execution_count": 100,
   "id": "a323d2fb-5514-4610-894d-5f209c2ca9e4",
   "metadata": {},
   "outputs": [
    {
     "name": "stdout",
     "output_type": "stream",
     "text": [
      "Yeah, x is a list type\n"
     ]
    }
   ],
   "source": [
    "if isinstance(x, list): #Another method\n",
    "    print('Yeah, x is a list type')"
   ]
  },
  {
   "cell_type": "code",
   "execution_count": null,
   "id": "499fe2fe-0367-40b5-9dff-7d38452bee02",
   "metadata": {},
   "outputs": [],
   "source": []
  }
 ],
 "metadata": {
  "kernelspec": {
   "display_name": "Python 3 (ipykernel)",
   "language": "python",
   "name": "python3"
  },
  "language_info": {
   "codemirror_mode": {
    "name": "ipython",
    "version": 3
   },
   "file_extension": ".py",
   "mimetype": "text/x-python",
   "name": "python",
   "nbconvert_exporter": "python",
   "pygments_lexer": "ipython3",
   "version": "3.12.4"
  }
 },
 "nbformat": 4,
 "nbformat_minor": 5
}
