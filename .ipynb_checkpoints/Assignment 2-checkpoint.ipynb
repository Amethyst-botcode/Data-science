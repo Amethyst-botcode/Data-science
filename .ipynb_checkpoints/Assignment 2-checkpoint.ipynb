{
 "cells": [
  {
   "cell_type": "markdown",
   "id": "2cdbf828-2599-4a6a-a86b-6dee6d0a0223",
   "metadata": {},
   "source": [
    "---\n",
    "## *Assignment*\n",
    "\n",
    "---"
   ]
  },
  {
   "cell_type": "markdown",
   "id": "e51b9608-8b9a-4612-9cb5-736574bcde4b",
   "metadata": {},
   "source": [
    "> Check for the use cases of: <br> \n",
    "- isdigits\n",
    "- Encode\n",
    "- Replace\n",
    "- Translate\n",
    "  "
   ]
  },
  {
   "cell_type": "markdown",
   "id": "b4f99036-2b69-4238-afdb-fd77baec7c79",
   "metadata": {},
   "source": [
    "### 1. *isdigits* <br>\n",
    "This is used to check if a string contains only numbers. <br>\n",
    "If the string is made up only numbers, it returns TRUE and if there is anything other than numbers in the string like letters or symbols it returns FALSE.\n"
   ]
  },
  {
   "cell_type": "code",
   "execution_count": 24,
   "id": "fea3785b-719d-414b-ac18-ffa9b4120c6e",
   "metadata": {},
   "outputs": [
    {
     "name": "stdout",
     "output_type": "stream",
     "text": [
      "100001200\n"
     ]
    }
   ],
   "source": [
    "first_string = \"100001200\"\n",
    "print(first_string)"
   ]
  },
  {
   "cell_type": "code",
   "execution_count": 26,
   "id": "f206a712-0daa-43f9-a4f2-bf13607cae64",
   "metadata": {},
   "outputs": [
    {
     "name": "stdout",
     "output_type": "stream",
     "text": [
      "<class 'str'>\n"
     ]
    }
   ],
   "source": [
    "print(type(first_string))"
   ]
  },
  {
   "cell_type": "markdown",
   "id": "cce81d6d-7f36-405d-9388-2d41dbf58817",
   "metadata": {},
   "source": [
    ">If we use isdigits on this string , it will return true because the string is all numbers."
   ]
  },
  {
   "cell_type": "code",
   "execution_count": 29,
   "id": "313a9329-0a50-4679-98c7-80ca6ecd0615",
   "metadata": {},
   "outputs": [
    {
     "data": {
      "text/plain": [
       "True"
      ]
     },
     "execution_count": 29,
     "metadata": {},
     "output_type": "execute_result"
    }
   ],
   "source": [
    "first_string.isdigit()"
   ]
  },
  {
   "cell_type": "code",
   "execution_count": 31,
   "id": "a47d940b-164d-4d87-97e6-2287e16a4875",
   "metadata": {},
   "outputs": [
    {
     "name": "stdout",
     "output_type": "stream",
     "text": [
      "100a%678$\n"
     ]
    }
   ],
   "source": [
    "second_string = \"100a%678$\"\n",
    "print(second_string)"
   ]
  },
  {
   "cell_type": "markdown",
   "id": "942e3459-2c2e-4ff2-b604-1aed78e6bbf9",
   "metadata": {},
   "source": [
    ">This will return false because the string has a letter and symbols in it."
   ]
  },
  {
   "cell_type": "code",
   "execution_count": 34,
   "id": "eb197863-7411-4d40-a3d5-83d389fb98af",
   "metadata": {},
   "outputs": [
    {
     "data": {
      "text/plain": [
       "False"
      ]
     },
     "execution_count": 34,
     "metadata": {},
     "output_type": "execute_result"
    }
   ],
   "source": [
    "second_string.isdigit()"
   ]
  },
  {
   "cell_type": "markdown",
   "id": "e4345399-787d-4ece-a260-260a8f982278",
   "metadata": {},
   "source": [
    "### 2. *Encode*\n",
    "Encode converts a string into bytes (a form of data that computers can easily process and transmit). <br> \n",
    "<br>This is necessary because computers store and handle data in bytes, not in human-readable text. "
   ]
  },
  {
   "cell_type": "code",
   "execution_count": 51,
   "id": "9254bbc1-b384-4736-a5f8-1f47300764b3",
   "metadata": {},
   "outputs": [
    {
     "name": "stdout",
     "output_type": "stream",
     "text": [
      "Hi, i just joined this class.\n"
     ]
    }
   ],
   "source": [
    "intro_string = 'Hi, i just joined this class.'\n",
    "print(intro_string)"
   ]
  },
  {
   "cell_type": "code",
   "execution_count": 53,
   "id": "1d4ca247-c6c4-45e0-b458-3ec9ad6bc57d",
   "metadata": {},
   "outputs": [
    {
     "data": {
      "text/plain": [
       "b'Hi, i just joined this class.'"
      ]
     },
     "execution_count": 53,
     "metadata": {},
     "output_type": "execute_result"
    }
   ],
   "source": [
    "intro_string.encode()"
   ]
  },
  {
   "cell_type": "markdown",
   "id": "c6f51b0c-cdec-4a67-9cb3-a05b7511d60d",
   "metadata": {},
   "source": [
    "### 3. *Replace*"
   ]
  },
  {
   "cell_type": "markdown",
   "id": "0bad5d85-4fd3-4322-bf88-e196b66ade65",
   "metadata": {},
   "source": [
    "Replace method replaces a specified phrase with another specified phrse in a string. <br>\n",
    "The parameter replace takes is:\n",
    "* Old value - The phrase in the string to search for.\n",
    "* New value - The phrase in the string to replace the old value\n",
    "* Count - This specifies how many times you want to replace the old value, it is optional. <br>\n",
    "By default replace will replace all the old value with the new one."
   ]
  },
  {
   "cell_type": "code",
   "execution_count": 59,
   "id": "d831cd30-ff17-4939-86bc-61e41e993af0",
   "metadata": {},
   "outputs": [
    {
     "name": "stdout",
     "output_type": "stream",
     "text": [
      "I like bananas\n"
     ]
    }
   ],
   "source": [
    "txt = \"I like bananas\"\n",
    "print(txt)"
   ]
  },
  {
   "cell_type": "code",
   "execution_count": 61,
   "id": "46beec66-afa6-4c3b-ae2f-cc78fa04783c",
   "metadata": {},
   "outputs": [
    {
     "data": {
      "text/plain": [
       "'I like apples'"
      ]
     },
     "execution_count": 61,
     "metadata": {},
     "output_type": "execute_result"
    }
   ],
   "source": [
    "txt.replace('bananas', 'apples')"
   ]
  },
  {
   "cell_type": "code",
   "execution_count": 63,
   "id": "95b34e84-fbff-43ee-a76d-b224b9fcada3",
   "metadata": {},
   "outputs": [
    {
     "name": "stdout",
     "output_type": "stream",
     "text": [
      "The weather is rainy today, it might be rainy tomorrow\n"
     ]
    }
   ],
   "source": [
    "txt_2 ='The weather is rainy today, it might be rainy tomorrow'\n",
    "print(txt_2)"
   ]
  },
  {
   "cell_type": "code",
   "execution_count": 69,
   "id": "41f70d89-d9e2-4d8b-a416-21b0044c5e06",
   "metadata": {},
   "outputs": [
    {
     "data": {
      "text/plain": [
       "'The weather is sunny today, it might be rainy tomorrow'"
      ]
     },
     "execution_count": 69,
     "metadata": {},
     "output_type": "execute_result"
    }
   ],
   "source": [
    "txt_2.replace('rainy', 'sunny', 1)"
   ]
  },
  {
   "cell_type": "code",
   "execution_count": 71,
   "id": "79722669-9fa0-458c-a027-ddc7422bce98",
   "metadata": {},
   "outputs": [
    {
     "data": {
      "text/plain": [
       "'The weather is sunny today, it might be sunny tomorrow'"
      ]
     },
     "execution_count": 71,
     "metadata": {},
     "output_type": "execute_result"
    }
   ],
   "source": [
    "txt_2.replace('rainy', 'sunny', 2)"
   ]
  },
  {
   "cell_type": "code",
   "execution_count": 83,
   "id": "f36a1b4d-703d-44b4-ae16-3a71322994f4",
   "metadata": {},
   "outputs": [
    {
     "name": "stdout",
     "output_type": "stream",
     "text": [
      "2024/07/29\n"
     ]
    }
   ],
   "source": [
    "date = \"2024/07/29\"\n",
    "print(int)"
   ]
  },
  {
   "cell_type": "code",
   "execution_count": 81,
   "id": "4203ffb3-359c-45c5-86f4-1d25a1dee8e8",
   "metadata": {},
   "outputs": [
    {
     "data": {
      "text/plain": [
       "'2024-07-29'"
      ]
     },
     "execution_count": 81,
     "metadata": {},
     "output_type": "execute_result"
    }
   ],
   "source": [
    "int.replace('/', '-')"
   ]
  },
  {
   "cell_type": "code",
   "execution_count": 99,
   "id": "399081b0-f2d7-4bb4-81c2-a4f0a3495288",
   "metadata": {},
   "outputs": [
    {
     "name": "stdout",
     "output_type": "stream",
     "text": [
      "Hi!!!!!!!!, My name is Moyo\n"
     ]
    }
   ],
   "source": [
    "Data = 'Hi!!!!!!!!, My name is Moyo'\n",
    "print(Data)"
   ]
  },
  {
   "cell_type": "code",
   "execution_count": 101,
   "id": "280fc947-de0a-4932-a671-f0f0daab1751",
   "metadata": {},
   "outputs": [
    {
     "data": {
      "text/plain": [
       "'Hi, My name is Moyo'"
      ]
     },
     "execution_count": 101,
     "metadata": {},
     "output_type": "execute_result"
    }
   ],
   "source": [
    "Data.replace('!', '')"
   ]
  },
  {
   "cell_type": "markdown",
   "id": "11191264-e6a3-41b6-ba45-02a69cdd83c8",
   "metadata": {},
   "source": [
    "### 4. *Translate*\n",
    " The translate method returns a string where some specified characters are replaced with the characters described in a mapping table or a translation table. <br>\n",
    " The marktrans() is used to create a mapping table without it the characters will not be replaced or translated."
   ]
  },
  {
   "cell_type": "code",
   "execution_count": 128,
   "id": "3ce0d3de-74d2-4820-abd7-55d0e9e9b492",
   "metadata": {},
   "outputs": [
    {
     "name": "stdout",
     "output_type": "stream",
     "text": [
      "Hi, toyo\n"
     ]
    }
   ],
   "source": [
    "ano_txt = 'Hi, moyo'\n",
    "final_txt = str.maketrans('m','t')\n",
    "print(ano_txt.translate(final_txt))"
   ]
  },
  {
   "cell_type": "code",
   "execution_count": 124,
   "id": "62412be0-b90a-4eb8-bd34-4a1e590b5a06",
   "metadata": {},
   "outputs": [
    {
     "name": "stdout",
     "output_type": "stream",
     "text": [
      "hubbis\n"
     ]
    }
   ],
   "source": [
    "Word ='rubbish'\n",
    "x ='r'\n",
    "y= 'h'\n",
    "z= 'h'\n",
    "full_word = str.maketrans(x, y, z)\n",
    "print(Word.translate(full_word))"
   ]
  }
 ],
 "metadata": {
  "kernelspec": {
   "display_name": "Python 3 (ipykernel)",
   "language": "python",
   "name": "python3"
  },
  "language_info": {
   "codemirror_mode": {
    "name": "ipython",
    "version": 3
   },
   "file_extension": ".py",
   "mimetype": "text/x-python",
   "name": "python",
   "nbconvert_exporter": "python",
   "pygments_lexer": "ipython3",
   "version": "3.12.4"
  }
 },
 "nbformat": 4,
 "nbformat_minor": 5
}
