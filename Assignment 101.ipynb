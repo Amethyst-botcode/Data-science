{
 "cells": [
  {
   "cell_type": "markdown",
   "id": "ee11a76c-81a1-4d02-ad7d-d14c50fd6478",
   "metadata": {},
   "source": [
    "---\n",
    "#### ASSIGNMENT #\n",
    "---"
   ]
  },
  {
   "cell_type": "markdown",
   "id": "a48f742c-f313-43f3-b788-86a8a609f747",
   "metadata": {},
   "source": [
    "#### > Q1 -> <br>\n",
    "Given that a rectangle has 4 sides, two equal lengths and 2 equal widths, if each length is 4cm and each width is 3cm, write a python code that calculate the perimeter and area of the rectangle"
   ]
  },
  {
   "cell_type": "markdown",
   "id": "37db50be-776a-467d-bfbf-4ef1eb9991c9",
   "metadata": {},
   "source": [
    "* The Area of a rectangle is calculated by lenght x width\n",
    "* The perimeter is calculated 2 x (length + width)"
   ]
  },
  {
   "cell_type": "code",
   "execution_count": 4,
   "id": "9609128f-9436-4bdf-a107-157c9b1c1d92",
   "metadata": {},
   "outputs": [
    {
     "name": "stdout",
     "output_type": "stream",
     "text": [
      "The area of the rectangle is: 12cm²\n",
      "The perimeter of the rectangle is: 14cm\n"
     ]
    }
   ],
   "source": [
    "length = 4 \n",
    "width = 3\n",
    "# Let's calculate:\n",
    "\n",
    "Area = length * width \n",
    "Perimeter = 2 * (length + width)\n",
    "# Answer\n",
    "\n",
    "print(\"The area of the rectangle is: {}cm\\u00B2\" .format(Area))\n",
    "print(\"The perimeter of the rectangle is: {}cm\" .format(Perimeter))"
   ]
  },
  {
   "cell_type": "code",
   "execution_count": 32,
   "id": "7244f87b-5887-4540-bbf9-3e5fdc883f9e",
   "metadata": {},
   "outputs": [
    {
     "name": "stdout",
     "output_type": "stream",
     "text": [
      "Enter the length of your rectangle:  4\n",
      "Enter the width of your rectangle:  3\n"
     ]
    },
    {
     "name": "stdout",
     "output_type": "stream",
     "text": [
      "The area of your rectangle is 12cm squared\n",
      "The perimeter of your rectangle is 14cm\n"
     ]
    }
   ],
   "source": [
    "length = int(input('Enter the length of your rectangle: '))\n",
    "width = int(input('Enter the width of your rectangle: '))\n",
    "\n",
    "Area = length * width\n",
    "Perimeter = 2*(length + width)\n",
    "print(f'The area of your rectangle is {Area}cm squared')\n",
    "print(f'The perimeter of your rectangle is {Perimeter}cm')"
   ]
  },
  {
   "cell_type": "markdown",
   "id": "9adff022-f3f5-451e-9d78-764d478a0554",
   "metadata": {},
   "source": [
    "#### >Q2 -> <br>\n",
    "Calculate the area and perimeter of a square that has just one side given has 10cm using python"
   ]
  },
  {
   "cell_type": "markdown",
   "id": "40608fef-904e-4f70-9994-cdbd1ed8ac50",
   "metadata": {},
   "source": [
    "> The area of a square = side ** 2 <br>\n",
    "> The perimeter of a square = 4 x side\n"
   ]
  },
  {
   "cell_type": "code",
   "execution_count": 16,
   "id": "0f16c537-33ef-4cf0-893f-281a3fdcbcb8",
   "metadata": {},
   "outputs": [
    {
     "name": "stdout",
     "output_type": "stream",
     "text": [
      "The area of a square is: 100cm²\n",
      "The perimeter of a square is: 40cm\n"
     ]
    }
   ],
   "source": [
    "side = 10\n",
    "Area = 10 ** 2\n",
    "Perimeter = 4 * 10\n",
    "\n",
    "print(f'The area of a square is: {Area}cm\\u00B2')\n",
    "print(f'The perimeter of a square is: {Perimeter}cm')"
   ]
  },
  {
   "cell_type": "code",
   "execution_count": 38,
   "id": "965a13bc-45b7-44e0-b618-6cb743f0929f",
   "metadata": {},
   "outputs": [
    {
     "name": "stdout",
     "output_type": "stream",
     "text": [
      "Enter the side of your square:  10\n"
     ]
    },
    {
     "name": "stdout",
     "output_type": "stream",
     "text": [
      "The area of your square is 100cm squared\n",
      "The perimeter of your square is 40cm\n"
     ]
    }
   ],
   "source": [
    "Side = int(input('Enter the side of your square: '))\n",
    "Area = Side ** 2\n",
    "Perimeter = 4 * Side\n",
    "\n",
    "print(f'The area of your square is {Area}cm squared')\n",
    "print(f'The perimeter of your square is {Perimeter}cm')"
   ]
  },
  {
   "cell_type": "markdown",
   "id": "124e6a37-140f-4591-9fc1-f7d9bf0b36d2",
   "metadata": {},
   "source": [
    "#### >Q3 ->\n",
    "Model a python code that calculate the perimeter and area of a circle with 2.0cm radius"
   ]
  },
  {
   "cell_type": "markdown",
   "id": "1effc13b-dbcc-469c-a34b-fb862d620bf5",
   "metadata": {},
   "source": [
    "> The area of a circle = pi x r ** 2 <br>\n",
    "> The circumference of a circle = 2 x pi x r <br>\n",
    "> R = Radius\n",
    "\n",
    "* For this we will import the math module for pi "
   ]
  },
  {
   "cell_type": "code",
   "execution_count": 16,
   "id": "931f5ab1-87b1-4eb7-858a-f48e9a1898c2",
   "metadata": {},
   "outputs": [
    {
     "name": "stdout",
     "output_type": "stream",
     "text": [
      "The Area of a circle is: 12.57cm²\n",
      "The circumference of a circle is: 12.57cm\n"
     ]
    }
   ],
   "source": [
    "import math\n",
    "\n",
    "Radius = 2.0\n",
    "Area = math.pi * 2.0**2\n",
    "Circumference = 2 * math.pi * 2.0\n",
    "\n",
    "print(f'The Area of a circle is: {Area:.2f}cm\\u00B2')\n",
    "print(f'The circumference of a circle is: {Circumference:.2f}cm')"
   ]
  },
  {
   "cell_type": "markdown",
   "id": "3a935947-8a18-4bbd-89da-439b1ae843f0",
   "metadata": {},
   "source": [
    "#### >Q4 -> \n",
    "Given your name, find the number of characters in your name including your last name"
   ]
  },
  {
   "cell_type": "code",
   "execution_count": 8,
   "id": "bcaea3d2-7b78-489b-a289-dfccde905cc1",
   "metadata": {},
   "outputs": [
    {
     "name": "stdout",
     "output_type": "stream",
     "text": [
      "Moyosoreoluwa Ogunleye\n"
     ]
    }
   ],
   "source": [
    "first_name = \"Moyosoreoluwa\"\n",
    "last_name = \"Ogunleye\"\n",
    "full_name = first_name + \" \" + last_name\n",
    "print(full_name)\n"
   ]
  },
  {
   "cell_type": "code",
   "execution_count": 10,
   "id": "483933d0-e90f-4031-b635-eacc7085b7f5",
   "metadata": {},
   "outputs": [
    {
     "data": {
      "text/plain": [
       "22"
      ]
     },
     "execution_count": 10,
     "metadata": {},
     "output_type": "execute_result"
    }
   ],
   "source": [
    "len(full_name)"
   ]
  },
  {
   "cell_type": "markdown",
   "id": "7218c3f5-0593-47fb-a3e8-48f1ce171169",
   "metadata": {},
   "source": [
    "#### >Q5 ->\n",
    "Can the length of numbers (integer) known, if yes, prove it, if no, with strong theory explain (please make sure you use the markdown cell) leave the answer in green color."
   ]
  },
  {
   "cell_type": "markdown",
   "id": "deb0b1db-ee00-4b0f-ad0f-fe007b441d2f",
   "metadata": {},
   "source": [
    "\n",
    "##### <p style=\"color:green;\"> Yes, I think the length of an integer can be counted. I’m going to give a straightforward explanation, as I am still a beginner with Python. \n",
    "##### <p style=\"color:green;\"> My simple theory would be to change the data type, or rather typecast the integer to a string, and then use the len function to count the number of characters."
   ]
  },
  {
   "cell_type": "markdown",
   "id": "de7555d4-ff39-4a45-a801-0acf64052f76",
   "metadata": {},
   "source": [
    "* Let's do a little example"
   ]
  },
  {
   "cell_type": "code",
   "execution_count": 54,
   "id": "b22a6c20-4878-42c8-b385-14cbc84d495e",
   "metadata": {},
   "outputs": [
    {
     "name": "stdout",
     "output_type": "stream",
     "text": [
      "121932631112635269\n"
     ]
    }
   ],
   "source": [
    "first_int = 123456789\n",
    "second_int = 987654321\n",
    "full_int = first_int * second_int\n",
    "print(full_int)"
   ]
  },
  {
   "cell_type": "code",
   "execution_count": 56,
   "id": "74e7202b-6819-41aa-a42d-ae8211de7889",
   "metadata": {},
   "outputs": [
    {
     "name": "stdout",
     "output_type": "stream",
     "text": [
      "<class 'int'>\n"
     ]
    }
   ],
   "source": [
    "print(type(full_int))"
   ]
  },
  {
   "cell_type": "markdown",
   "id": "47432834-afdc-41d0-a4ec-b69963b16e55",
   "metadata": {},
   "source": [
    "**Let's type cast the data type to string**"
   ]
  },
  {
   "cell_type": "code",
   "execution_count": 63,
   "id": "828655f0-c2fb-4840-8abf-f9c31b7af376",
   "metadata": {},
   "outputs": [
    {
     "name": "stdout",
     "output_type": "stream",
     "text": [
      "121932631112635269\n"
     ]
    }
   ],
   "source": [
    "full_int = str(full_int)\n",
    "\n",
    "print(full_int)"
   ]
  },
  {
   "cell_type": "code",
   "execution_count": 65,
   "id": "80fa55ed-b7df-45ca-9a49-18aad9af2122",
   "metadata": {},
   "outputs": [
    {
     "name": "stdout",
     "output_type": "stream",
     "text": [
      "<class 'str'>\n"
     ]
    }
   ],
   "source": [
    "print(type(full_int))"
   ]
  },
  {
   "cell_type": "markdown",
   "id": "c193ff17-47b7-4059-b8a7-de6232cac9e2",
   "metadata": {},
   "source": [
    "###### *Use the len fuction to count the number of characters*"
   ]
  },
  {
   "cell_type": "code",
   "execution_count": 72,
   "id": "aa176807-a916-4671-8862-870bfd0e0d8a",
   "metadata": {},
   "outputs": [
    {
     "data": {
      "text/plain": [
       "18"
      ]
     },
     "execution_count": 72,
     "metadata": {},
     "output_type": "execute_result"
    }
   ],
   "source": [
    "len(full_int) n"
   ]
  },
  {
   "cell_type": "markdown",
   "id": "d01e3a52-c954-40a6-a6b5-0de5add5666c",
   "metadata": {},
   "source": [
    "###### With these few points of mine, i hope i have been able to convince and not confuse you."
   ]
  },
  {
   "cell_type": "code",
   "execution_count": 23,
   "id": "3a84ec56-2480-420d-8e0c-9039cfd18368",
   "metadata": {},
   "outputs": [
    {
     "name": "stdout",
     "output_type": "stream",
     "text": [
      "Enter the principal amount:  1000\n",
      "Enter the interest rate:  0.05\n",
      "Enter the time:  3\n"
     ]
    },
    {
     "name": "stdout",
     "output_type": "stream",
     "text": [
      "The interest earned is 150.0\n"
     ]
    }
   ],
   "source": [
    "# Write a program that calculate the interest of a loan\n",
    "Principal = int(input('Enter the principal amount: '))\n",
    "Rate = float(input('Enter the interest rate: '))\n",
    "Time = int(input('Enter the time: '))\n",
    "\n",
    "Interest = Principal * Rate * Time\n",
    "\n",
    "print(f'The interest earned is {Interest}')\n"
   ]
  },
  {
   "cell_type": "code",
   "execution_count": 43,
   "id": "82f77433-775b-411b-b866-576c4808309c",
   "metadata": {},
   "outputs": [
    {
     "name": "stdout",
     "output_type": "stream",
     "text": [
      "The root of the equation is 1.71 and 0.29\n"
     ]
    }
   ],
   "source": [
    "# Write a program that solves a quadratic equation\n",
    "a = 2\n",
    "b = -4\n",
    "c = 1\n",
    "\n",
    "x1= (-b + ((b**2) - (4 * a * c)) ** (1/2)) / ((2) * (a))\n",
    "x2= (-b - ((b**2) - (4 * a * c)) ** (1/2)) / ((2) * (a))\n",
    "\n",
    "print(f'The root of the equation is {x1:.2f} and {x2:.2f}')"
   ]
  }
 ],
 "metadata": {
  "kernelspec": {
   "display_name": "Python 3 (ipykernel)",
   "language": "python",
   "name": "python3"
  },
  "language_info": {
   "codemirror_mode": {
    "name": "ipython",
    "version": 3
   },
   "file_extension": ".py",
   "mimetype": "text/x-python",
   "name": "python",
   "nbconvert_exporter": "python",
   "pygments_lexer": "ipython3",
   "version": "3.12.4"
  }
 },
 "nbformat": 4,
 "nbformat_minor": 5
}
