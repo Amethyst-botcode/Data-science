{
 "cells": [
  {
   "cell_type": "markdown",
   "id": "043a8270-2513-4ba6-a6ea-3c79f3eab7ba",
   "metadata": {},
   "source": [
    "----\n",
    "#### ASSIGNMENT\n",
    "\n",
    "----"
   ]
  },
  {
   "cell_type": "markdown",
   "id": "ee894dd6-62fb-41fa-9dc7-593bd0159fd7",
   "metadata": {},
   "source": [
    "1. **Research on the two methods of copying a list with examples.** <br> \n",
    "  >Copying a list  means creating a new list that contains the same elements as the original list. <br>\n",
    "  ##### The two methods are:\n",
    "  - The copy() method\n",
    "  - The slicing method"
   ]
  },
  {
   "cell_type": "code",
   "execution_count": 14,
   "id": "96121223-01a4-4b96-9022-38a4f9a463cd",
   "metadata": {},
   "outputs": [
    {
     "name": "stdout",
     "output_type": "stream",
     "text": [
      "['Adams', 25, 'Single', 94567, '05 Apple lane', 'Administrator']\n"
     ]
    }
   ],
   "source": [
    "Newlist = [\"Adams\", 25, \"Single\", 94567, \"05 Apple lane\", \"Administrator\"]\n",
    "print(Newlist)"
   ]
  },
  {
   "cell_type": "code",
   "execution_count": 16,
   "id": "a766833a-f55f-4b29-b826-51f8f4aab0ce",
   "metadata": {},
   "outputs": [
    {
     "name": "stdout",
     "output_type": "stream",
     "text": [
      "['Adams', 25, 'Single', 94567, '05 Apple lane', 'Administrator']\n"
     ]
    }
   ],
   "source": [
    "Copiedlist = Newlist.copy()\n",
    "print(Copiedlist)"
   ]
  },
  {
   "cell_type": "code",
   "execution_count": 20,
   "id": "4c37ce37-6326-4fd6-9cd6-4c1126970c41",
   "metadata": {},
   "outputs": [
    {
     "name": "stdout",
     "output_type": "stream",
     "text": [
      "['Adams', 25, 'Single', 94567, '05 Apple lane', 'Administrator']\n"
     ]
    }
   ],
   "source": [
    "Copiedlist = Newlist[:]\n",
    "print(Copiedlist)"
   ]
  },
  {
   "cell_type": "markdown",
   "id": "c6c8a161-757f-4302-a4e9-9e7138a488d1",
   "metadata": {},
   "source": [
    "2. **Differentiate between the find, count and index methods.** <br>\n",
    "- *Explain the differences and provide examples of each methods*."
   ]
  },
  {
   "cell_type": "markdown",
   "id": "42c50bf6-1fcc-425b-ade2-3fe1922e9da1",
   "metadata": {},
   "source": [
    " \n",
    "  >FIND:\n",
    "> Imagine you have a long piece of text and you want to find out where a certain word appears for the first time, you can use find to do this. <br>\n",
    ">The find is used to search for a specific substring (a small part of a string) within a larger string. If the substring is not found, it returns -1. <br>\n",
    ">The parameter find takes are value, start(Where to start the search. Default is 0), end(Where to end the search)<br>\n",
    ">Let's say i have a sentence:\n"
   ]
  },
  {
   "cell_type": "code",
   "execution_count": 46,
   "id": "81266819-ec5d-46e1-83d5-46b2743acd3a",
   "metadata": {},
   "outputs": [
    {
     "name": "stdout",
     "output_type": "stream",
     "text": [
      "Hello, welcome to the world of python programming world.\n"
     ]
    }
   ],
   "source": [
    "sentence = \"Hello, welcome to the world of python programming world.\"\n",
    "print(sentence)"
   ]
  },
  {
   "cell_type": "markdown",
   "id": "62c47856-a082-4167-b838-95857f80cc5a",
   "metadata": {},
   "source": [
    "**Perhaps i want to find out where the word \"world\" starts in the sentence.**"
   ]
  },
  {
   "cell_type": "code",
   "execution_count": 48,
   "id": "df839e87-a775-4880-8d17-51171e9f2558",
   "metadata": {},
   "outputs": [
    {
     "name": "stdout",
     "output_type": "stream",
     "text": [
      "22\n"
     ]
    }
   ],
   "source": [
    "counting = sentence.find(\"world\")\n",
    "print(counting)"
   ]
  },
  {
   "cell_type": "code",
   "execution_count": 52,
   "id": "793d09f2-76a8-4eff-823e-45d555ddf123",
   "metadata": {},
   "outputs": [
    {
     "name": "stdout",
     "output_type": "stream",
     "text": [
      "-1\n"
     ]
    }
   ],
   "source": [
    "counting = sentence.find(\"Java\")\n",
    "print(counting)"
   ]
  },
  {
   "cell_type": "code",
   "execution_count": 57,
   "id": "2f2c9af3-9f5c-4444-a7ac-b0c9f1203ca7",
   "metadata": {},
   "outputs": [
    {
     "name": "stdout",
     "output_type": "stream",
     "text": [
      "8\n"
     ]
    }
   ],
   "source": [
    "txt = \"Hello, welcome to my world\"\n",
    "x = txt.find(\"e\", 5, 10)\n",
    "print(x)"
   ]
  },
  {
   "cell_type": "markdown",
   "id": "af4d1d4f-1587-444d-9432-948e76f18b30",
   "metadata": {},
   "source": [
    ">COUNT: Count method is like a tool that helps you figure out how many times a small part (substring) of a text (string) appears in the whole text. There are some differences between count for string and count for lists. "
   ]
  },
  {
   "cell_type": "code",
   "execution_count": 64,
   "id": "eef8f892-1574-4679-96eb-35436ade5b2b",
   "metadata": {},
   "outputs": [
    {
     "name": "stdout",
     "output_type": "stream",
     "text": [
      "I have had an apple on my desk before!\n"
     ]
    }
   ],
   "source": [
    "a = \"I have had an apple on my desk before!\"\n",
    "print(a)"
   ]
  },
  {
   "cell_type": "code",
   "execution_count": 68,
   "id": "79411ceb-8030-46d2-aa77-7c330674db31",
   "metadata": {},
   "outputs": [
    {
     "data": {
      "text/plain": [
       "5"
      ]
     },
     "execution_count": 68,
     "metadata": {},
     "output_type": "execute_result"
    }
   ],
   "source": [
    "a.count(\"e\")"
   ]
  },
  {
   "cell_type": "code",
   "execution_count": 92,
   "id": "7c410ee0-a14f-430c-910e-4ca25d87162a",
   "metadata": {},
   "outputs": [
    {
     "name": "stdout",
     "output_type": "stream",
     "text": [
      "('5', '6', '6', '7', '8')\n"
     ]
    }
   ],
   "source": [
    "b = \"5\", \"6\", \"6\", \"7\", \"8\"\n",
    "print(b)\n"
   ]
  },
  {
   "cell_type": "code",
   "execution_count": 88,
   "id": "b69dbf03-375e-4aa5-9fdd-9533d6659a4f",
   "metadata": {},
   "outputs": [
    {
     "data": {
      "text/plain": [
       "2"
      ]
     },
     "execution_count": 88,
     "metadata": {},
     "output_type": "execute_result"
    }
   ],
   "source": [
    "b.count(\"6\")"
   ]
  },
  {
   "cell_type": "markdown",
   "id": "139f6fb5-50bc-4b60-a477-3f72609d3136",
   "metadata": {},
   "source": [
    ">INDEX: The index method is used to find the first occurrence of a specified value in a list, string or tuple. It returns the index (position) of the value. If the value is not found, it raises a value error."
   ]
  },
  {
   "cell_type": "code",
   "execution_count": 107,
   "id": "fef78c54-1479-42e7-9701-927b6897c341",
   "metadata": {},
   "outputs": [
    {
     "data": {
      "text/plain": [
       "3"
      ]
     },
     "execution_count": 107,
     "metadata": {},
     "output_type": "execute_result"
    }
   ],
   "source": [
    "fruits = [\"Grapes\", \"Guava\", \"Strawberry\", \"Cherry\"]\n",
    "fruits.index(\"Cherry\")"
   ]
  },
  {
   "cell_type": "code",
   "execution_count": 103,
   "id": "d4466e31-1657-4f51-a212-c4c82dc84c5a",
   "metadata": {},
   "outputs": [
    {
     "data": {
      "text/plain": [
       "4"
      ]
     },
     "execution_count": 103,
     "metadata": {},
     "output_type": "execute_result"
    }
   ],
   "source": [
    "text = \"hello world\"\n",
    "text.index(\"o\")"
   ]
  },
  {
   "cell_type": "code",
   "execution_count": 105,
   "id": "840cd475-0e31-4010-bc3f-d22ebb59a2fa",
   "metadata": {},
   "outputs": [
    {
     "data": {
      "text/plain": [
       "4"
      ]
     },
     "execution_count": 105,
     "metadata": {},
     "output_type": "execute_result"
    }
   ],
   "source": [
    "Numbers = (20, 40, 50, 60, 70, 80)\n",
    "Numbers.index(70)"
   ]
  },
  {
   "cell_type": "code",
   "execution_count": 109,
   "id": "8e55ef39-d620-4400-9e53-6b89c5643cfc",
   "metadata": {},
   "outputs": [
    {
     "ename": "ValueError",
     "evalue": "'Pear' is not in list",
     "output_type": "error",
     "traceback": [
      "\u001b[1;31m---------------------------------------------------------------------------\u001b[0m",
      "\u001b[1;31mValueError\u001b[0m                                Traceback (most recent call last)",
      "Cell \u001b[1;32mIn[109], line 1\u001b[0m\n\u001b[1;32m----> 1\u001b[0m fruits\u001b[38;5;241m.\u001b[39mindex(\u001b[38;5;124m\"\u001b[39m\u001b[38;5;124mPear\u001b[39m\u001b[38;5;124m\"\u001b[39m)\n\u001b[0;32m      2\u001b[0m \u001b[38;5;28mprint\u001b[39m(fruits)\n",
      "\u001b[1;31mValueError\u001b[0m: 'Pear' is not in list"
     ]
    }
   ],
   "source": [
    "fruits.index(\"Pear\")\n",
    "print(fruits)"
   ]
  },
  {
   "cell_type": "markdown",
   "id": "1f0ce385-39af-4504-ad3c-fcafefdeb62e",
   "metadata": {},
   "source": [
    "3. **Create a Personal “To-Do List”** <br>\r",
    "- Utilize various list functions. <br>\r",
    "- Remove the entire list. <br>\r"
   ]
  },
  {
   "cell_type": "code",
   "execution_count": 171,
   "id": "718e65ae-c041-4170-b137-46e6176e899f",
   "metadata": {},
   "outputs": [
    {
     "name": "stdout",
     "output_type": "stream",
     "text": [
      "['Eat breakfast', 'Attend meetings', 'Respond to emails', 'Clean kitchen', 'Read a book', 'Relax']\n"
     ]
    }
   ],
   "source": [
    "my_list = ['Eat breakfast', 'Attend meetings', 'Respond to emails', 'Clean kitchen', 'Read a book', 'Relax']\n",
    "print(my_list)"
   ]
  },
  {
   "cell_type": "markdown",
   "id": "a0445b10-d0cf-4871-81d4-8f5155bf5910",
   "metadata": {},
   "source": [
    "*I forgot to add 'take out the trash' to my household chores, i would use append*"
   ]
  },
  {
   "cell_type": "code",
   "execution_count": 137,
   "id": "a6f6580e-c32c-48e7-8361-cc6a85b528f1",
   "metadata": {},
   "outputs": [
    {
     "name": "stdout",
     "output_type": "stream",
     "text": [
      "['Eat breakfast', 'Attend meetings', 'Respond to emails', 'Clean kitchen', 'Read a book', 'Relax', 'Take out the trash']\n"
     ]
    }
   ],
   "source": [
    "my_list.append('Take out the trash')\n",
    "print(my_list)"
   ]
  },
  {
   "cell_type": "code",
   "execution_count": 151,
   "id": "878a12d3-c0a7-4a5c-a028-ffca89e4803d",
   "metadata": {},
   "outputs": [
    {
     "name": "stdout",
     "output_type": "stream",
     "text": [
      "['Eat breakfast', 'Attend meetings', 'Respond to emails', 'Clean kitchen', 'Take out the trash', 'Take out the trash', 'Take out the trash', 'Read a book']\n"
     ]
    }
   ],
   "source": [
    "# i want to add it just after 'clean the kitchen'\n",
    "my_list.insert(4, 'Take out the trash')\n",
    "print(my_list)"
   ]
  },
  {
   "cell_type": "code",
   "execution_count": 155,
   "id": "0e35c6a7-8067-4640-9a41-642370b76f1b",
   "metadata": {},
   "outputs": [
    {
     "name": "stdout",
     "output_type": "stream",
     "text": [
      "['Eat breakfast', 'Attend meetings', 'Respond to emails', 'Clean kitchen', 'Take out the trash', 'Read a book']\n"
     ]
    }
   ],
   "source": [
    "#I want to take out the duplicate 'take out the trash'\n",
    "my_list.pop(5)\n",
    "print(my_list)"
   ]
  },
  {
   "cell_type": "code",
   "execution_count": 157,
   "id": "bd8c9452-6245-4b6f-a5ab-59254461d22f",
   "metadata": {},
   "outputs": [
    {
     "name": "stdout",
     "output_type": "stream",
     "text": [
      "['Sponges', 'Trash bag', 'Shampoo', 'Rice', 'Toothpaste']\n"
     ]
    }
   ],
   "source": [
    "#Creating another list\n",
    "Shopping_list = ['Sponges', 'Trash bag', 'Shampoo', 'Rice', 'Toothpaste']\n",
    "print(Shopping_list)"
   ]
  },
  {
   "cell_type": "code",
   "execution_count": 173,
   "id": "643c0d2a-7f71-43ca-9d77-126482cf6141",
   "metadata": {},
   "outputs": [],
   "source": [
    "#I want to join this new list to the one i have before\n",
    "my_list.extend(Shopping_list)"
   ]
  },
  {
   "cell_type": "code",
   "execution_count": 175,
   "id": "139e3a22-0997-4eb8-9561-9326e42d3729",
   "metadata": {},
   "outputs": [
    {
     "data": {
      "text/plain": [
       "['Eat breakfast',\n",
       " 'Attend meetings',\n",
       " 'Respond to emails',\n",
       " 'Clean kitchen',\n",
       " 'Read a book',\n",
       " 'Relax',\n",
       " 'Sponges',\n",
       " 'Trash bag',\n",
       " 'Shampoo',\n",
       " 'Rice',\n",
       " 'Toothpaste']"
      ]
     },
     "execution_count": 175,
     "metadata": {},
     "output_type": "execute_result"
    }
   ],
   "source": [
    "my_list"
   ]
  },
  {
   "cell_type": "code",
   "execution_count": 181,
   "id": "506b0e29-e7ba-47f3-a0c4-80923c12f657",
   "metadata": {},
   "outputs": [],
   "source": [
    "#I want to sort my list in acsending order\n",
    "my_list.sort()\n"
   ]
  },
  {
   "cell_type": "code",
   "execution_count": 179,
   "id": "2e621f3d-08f6-45e7-88ae-32eb97f75660",
   "metadata": {},
   "outputs": [
    {
     "data": {
      "text/plain": [
       "['Attend meetings',\n",
       " 'Clean kitchen',\n",
       " 'Eat breakfast',\n",
       " 'Read a book',\n",
       " 'Relax',\n",
       " 'Respond to emails',\n",
       " 'Rice',\n",
       " 'Shampoo',\n",
       " 'Sponges',\n",
       " 'Toothpaste',\n",
       " 'Trash bag']"
      ]
     },
     "execution_count": 179,
     "metadata": {},
     "output_type": "execute_result"
    }
   ],
   "source": [
    "my_list"
   ]
  },
  {
   "cell_type": "code",
   "execution_count": 183,
   "id": "1b755bf5-4440-4224-9ab6-10ceaaea1ebe",
   "metadata": {},
   "outputs": [],
   "source": [
    "#I change my mind and want it in descending order\n",
    "my_list.reverse()"
   ]
  },
  {
   "cell_type": "code",
   "execution_count": 185,
   "id": "870b6404-9ca9-481e-9b6d-d5607ba30177",
   "metadata": {},
   "outputs": [
    {
     "data": {
      "text/plain": [
       "['Trash bag',\n",
       " 'Toothpaste',\n",
       " 'Sponges',\n",
       " 'Shampoo',\n",
       " 'Rice',\n",
       " 'Respond to emails',\n",
       " 'Relax',\n",
       " 'Read a book',\n",
       " 'Eat breakfast',\n",
       " 'Clean kitchen',\n",
       " 'Attend meetings']"
      ]
     },
     "execution_count": 185,
     "metadata": {},
     "output_type": "execute_result"
    }
   ],
   "source": [
    "my_list"
   ]
  },
  {
   "cell_type": "code",
   "execution_count": 187,
   "id": "13a5a65d-dabf-4f3f-85cb-78d1225af600",
   "metadata": {},
   "outputs": [],
   "source": [
    "#I want a copy of the list\n",
    "Copy_list = my_list.copy()"
   ]
  },
  {
   "cell_type": "code",
   "execution_count": 189,
   "id": "e6139fd1-5b90-4fa5-8b16-d118b7936517",
   "metadata": {},
   "outputs": [
    {
     "data": {
      "text/plain": [
       "['Trash bag',\n",
       " 'Toothpaste',\n",
       " 'Sponges',\n",
       " 'Shampoo',\n",
       " 'Rice',\n",
       " 'Respond to emails',\n",
       " 'Relax',\n",
       " 'Read a book',\n",
       " 'Eat breakfast',\n",
       " 'Clean kitchen',\n",
       " 'Attend meetings']"
      ]
     },
     "execution_count": 189,
     "metadata": {},
     "output_type": "execute_result"
    }
   ],
   "source": [
    "Copy_list"
   ]
  },
  {
   "cell_type": "code",
   "execution_count": 193,
   "id": "49189a01-0799-4e02-a783-f9b57d8c4477",
   "metadata": {},
   "outputs": [
    {
     "data": {
      "text/plain": [
       "6"
      ]
     },
     "execution_count": 193,
     "metadata": {},
     "output_type": "execute_result"
    }
   ],
   "source": [
    "#I want to find out where 'Relax' starts in my list\n",
    "my_list.index('Relax')"
   ]
  },
  {
   "cell_type": "code",
   "execution_count": 197,
   "id": "337e0104-d92b-48b7-ac0f-a4daf05885b6",
   "metadata": {},
   "outputs": [
    {
     "data": {
      "text/plain": [
       "1"
      ]
     },
     "execution_count": 197,
     "metadata": {},
     "output_type": "execute_result"
    }
   ],
   "source": [
    "#I want to count how many occurences of 'Rice' i have in my list\n",
    "my_list.count('Rice')"
   ]
  },
  {
   "cell_type": "code",
   "execution_count": 199,
   "id": "f2955bea-f357-4baf-8c9d-6b556de2d0eb",
   "metadata": {},
   "outputs": [],
   "source": [
    "#I want to remove 'Shampoo' from my list\n",
    "my_list.remove('Shampoo')"
   ]
  },
  {
   "cell_type": "code",
   "execution_count": 201,
   "id": "efaa6447-9a82-4806-9e99-4ae936b258b1",
   "metadata": {},
   "outputs": [
    {
     "data": {
      "text/plain": [
       "['Trash bag',\n",
       " 'Toothpaste',\n",
       " 'Sponges',\n",
       " 'Rice',\n",
       " 'Respond to emails',\n",
       " 'Relax',\n",
       " 'Read a book',\n",
       " 'Eat breakfast',\n",
       " 'Clean kitchen',\n",
       " 'Attend meetings']"
      ]
     },
     "execution_count": 201,
     "metadata": {},
     "output_type": "execute_result"
    }
   ],
   "source": [
    "my_list"
   ]
  },
  {
   "cell_type": "markdown",
   "id": "ff57f419-0a5a-4db1-ac3e-1806be84aca1",
   "metadata": {},
   "source": [
    "* I want to clean out the elements in my string leaving just an empty string"
   ]
  },
  {
   "cell_type": "code",
   "execution_count": 204,
   "id": "64bfe3b5-6244-437e-9357-c4f49c7718e4",
   "metadata": {},
   "outputs": [],
   "source": [
    "my_list.clear()"
   ]
  },
  {
   "cell_type": "code",
   "execution_count": 206,
   "id": "34617285-bf5e-49a5-b43f-cdf63f51baf7",
   "metadata": {},
   "outputs": [
    {
     "data": {
      "text/plain": [
       "[]"
      ]
     },
     "execution_count": 206,
     "metadata": {},
     "output_type": "execute_result"
    }
   ],
   "source": [
    "my_list"
   ]
  },
  {
   "cell_type": "markdown",
   "id": "33a56c06-df07-4dbf-85ab-8a9ec8091a43",
   "metadata": {},
   "source": [
    "4. **Research on how to update a Tuple, if possible.**"
   ]
  },
  {
   "cell_type": "markdown",
   "id": "92752b78-9fa0-492c-bdf2-8b95222c6443",
   "metadata": {},
   "source": [
    " >The elements of a tuple cannot be updated or modified will result in TypeError but a tuple can be manipulated for an update. <br>\n",
    "*We can update a tuple element value by converting or typecast the tuple to a list, make the necessary changes and convert it back to a tuple.*"
   ]
  },
  {
   "cell_type": "code",
   "execution_count": 233,
   "id": "240f83d8-5db1-4677-b608-ae07c42d2a81",
   "metadata": {},
   "outputs": [
    {
     "name": "stdout",
     "output_type": "stream",
     "text": [
      "(10, 20, 30, 40, 50)\n"
     ]
    }
   ],
   "source": [
    "original_tuple = (10, 20, 30, 40, 50)\n",
    "print(original_tuple)"
   ]
  },
  {
   "cell_type": "code",
   "execution_count": 215,
   "id": "47670360-4498-42c8-8c54-37c4c8278302",
   "metadata": {},
   "outputs": [
    {
     "name": "stdout",
     "output_type": "stream",
     "text": [
      "<class 'list'>\n"
     ]
    }
   ],
   "source": [
    "original_tuple = list(original_tuple)\n",
    "print(type(original_tuple))"
   ]
  },
  {
   "cell_type": "code",
   "execution_count": 217,
   "id": "7e4b8224-504c-4bf1-ac72-57efe89c3ccf",
   "metadata": {},
   "outputs": [
    {
     "name": "stdout",
     "output_type": "stream",
     "text": [
      "[10, 2, 30, 40, 50]\n"
     ]
    }
   ],
   "source": [
    "#Now i want to update the second element (index 1)\n",
    "original_tuple[1] = 2\n",
    "print(original_tuple)"
   ]
  },
  {
   "cell_type": "code",
   "execution_count": 219,
   "id": "6b8ab341-7ef3-47ec-8d7e-d1ef5c95f88b",
   "metadata": {},
   "outputs": [
    {
     "name": "stdout",
     "output_type": "stream",
     "text": [
      "<class 'tuple'>\n"
     ]
    }
   ],
   "source": [
    "#Convert the list back to a tuple\n",
    "original_tuple = tuple(original_tuple)\n",
    "print(type(original_tuple))"
   ]
  },
  {
   "cell_type": "code",
   "execution_count": 221,
   "id": "cf039571-55f0-47b7-9539-f3a3695b06b5",
   "metadata": {},
   "outputs": [
    {
     "data": {
      "text/plain": [
       "(10, 2, 30, 40, 50)"
      ]
     },
     "execution_count": 221,
     "metadata": {},
     "output_type": "execute_result"
    }
   ],
   "source": [
    "original_tuple"
   ]
  },
  {
   "cell_type": "markdown",
   "id": "57701f0f-396d-4563-b707-a025c84ccaec",
   "metadata": {},
   "source": [
    "*We could also slice the tuple and concate the values we want to add, with this method the values can be changed without changing the original tuple*"
   ]
  },
  {
   "cell_type": "code",
   "execution_count": 263,
   "id": "3d6929d8-b7d5-40e2-ba5f-77171c4e3a1c",
   "metadata": {},
   "outputs": [
    {
     "data": {
      "text/plain": [
       "(10, 20, 3, 4, 5, 30, 40, 50)"
      ]
     },
     "execution_count": 263,
     "metadata": {},
     "output_type": "execute_result"
    }
   ],
   "source": [
    "original_tuple[:2] + (3, 4, 5) + original_tuple[2:] \n"
   ]
  },
  {
   "cell_type": "markdown",
   "id": "7f9b2b2e-9156-4e72-8cfe-b7a86ec4e06f",
   "metadata": {},
   "source": [
    "*We could also using packing and unpacking*\n",
    ">Packing and unpacking refer to the process of combining multiple values into a tuple(packing) or extracting values from a tuple (unpacking)."
   ]
  },
  {
   "cell_type": "code",
   "execution_count": 273,
   "id": "89e8a78f-3d23-49e7-8ec0-c00f663406cc",
   "metadata": {},
   "outputs": [],
   "source": [
    "#Unpacking the tuple into individual variables\n",
    "first, second, third, fourth, fifth = original_tuple"
   ]
  },
  {
   "cell_type": "code",
   "execution_count": 276,
   "id": "b344f9fa-8a4b-4ac0-8739-bc03d241a2ca",
   "metadata": {},
   "outputs": [
    {
     "data": {
      "text/plain": [
       "(10, 20, 30, 40, 50)"
      ]
     },
     "execution_count": 276,
     "metadata": {},
     "output_type": "execute_result"
    }
   ],
   "source": [
    "original_tuple"
   ]
  },
  {
   "cell_type": "code",
   "execution_count": 282,
   "id": "b4e92928-6ac5-4243-8805-728535656ac1",
   "metadata": {},
   "outputs": [
    {
     "name": "stdout",
     "output_type": "stream",
     "text": [
      "(10, 20, 30, 40, 50)\n",
      "(10, 20, 35, 40, 50)\n"
     ]
    }
   ],
   "source": [
    "updated_tuple = (first, second, 35, fourth, fifth)\n",
    "print(original_tuple)\n",
    "print(updated_tuple)"
   ]
  }
 ],
 "metadata": {
  "kernelspec": {
   "display_name": "Python 3 (ipykernel)",
   "language": "python",
   "name": "python3"
  },
  "language_info": {
   "codemirror_mode": {
    "name": "ipython",
    "version": 3
   },
   "file_extension": ".py",
   "mimetype": "text/x-python",
   "name": "python",
   "nbconvert_exporter": "python",
   "pygments_lexer": "ipython3",
   "version": "3.12.4"
  }
 },
 "nbformat": 4,
 "nbformat_minor": 5
}
